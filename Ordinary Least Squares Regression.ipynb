{
 "cells": [
  {
   "cell_type": "markdown",
   "metadata": {},
   "source": [
    "\\textbf{Ordinary Least Squares Regression}"
   ]
  },
  {
   "cell_type": "code",
   "execution_count": 1,
   "metadata": {},
   "outputs": [],
   "source": [
    "import numpy as np\n",
    "import matplotlib.pyplot as plt\n",
    "from scipy.stats import norm, t, uniform, chi2, f"
   ]
  },
  {
   "cell_type": "markdown",
   "metadata": {},
   "source": [
    "# The Normal Equations\n",
    "## MLE Derivation\n",
    "Under frequentist assumptions, we have random variables $X$, $Y$, and $\\epsilon$ related by the equation\n",
    "\\begin{equation*}\n",
    "Y = \\beta_0 + \\beta_1 X + \\epsilon.\n",
    "\\end{equation*}\n",
    "Here, $X$ comes from any distribution (with finite variance) and $\\epsilon \\sim \\mathcal{N}\\left(0,\\sigma_{\\epsilon}^2\\right)$ is independent of $X$. The parameters $\\beta_0$ and $\\beta_1$ are regarded as fixed real numbers. If we are only able to observe samples in the paired form $\\left({X_i,Y_i}\\right)$, how do we estimate $\\beta_0$ and $\\beta_1$? The canonical approach begins with the distribution of $Y$ conditioned on $X$. Whenever we are given $X$, we may write\n",
    "\\begin{equation*}\n",
    "Y|X \\sim \\mathcal{N}\\left({\\beta_0 + \\beta_1 X, \\sigma_{\\epsilon}^2}\\right).\n",
    "\\end{equation*}\n",
    "For each $Y_i|X_i \\sim \\mathcal{N}\\left({\\beta_0 + \\beta_1 X_i, \\sigma_{\\epsilon}^2}\\right)$, we have the probability density function\n",
    "\\begin{align*}\n",
    "f_{Y_i}\\left({y_i}\\middle|x_i\\right) = \\frac{1}{\\sqrt{2\\pi \\sigma_{\\epsilon}^2}}\\exp\\left({-\\frac{1}{2\\sigma_{\\epsilon}^2}\\left({y_i-\\left({\\beta_0 + \\beta_1 x_i}\\right)}\\right)^2}\\right), && y_i \\in \\mathbb{R}.\n",
    "\\end{align*}\n",
    "The joint probability mass function (and also the likelihood function) is\n",
    "\\begin{align*}\n",
    "\\mathcal{L}\\left({\\beta_0,\\beta_1}\\right) &= f_{Y_1,\\dots,Y_n}\\left({y_1,\\dots,y_n}\\middle|{x_1,\\dots,x_n}\\right) \\\\\n",
    "&= \\prod_{i=1}^{n}\\frac{1}{\\sqrt{2\\pi \\sigma_{\\epsilon}^2}}\\exp\\left({-\\frac{1}{2\\sigma_{\\epsilon}^2}\\left({y_i-\\left({\\beta_0 + \\beta_1 x_i}\\right)}\\right)^2}\\right) \\\\\n",
    "&= \\left({2\\pi\\sigma_{\\epsilon}^2}\\right)^{-\\frac{n}{2}}\\exp\\left({-\\frac{1}{2\\sigma_{\\epsilon}^2}\\sum_{i=1}^{n}\\left({y_i-\\left({\\beta_0 + \\beta_1 x_i}\\right)}\\right)^2}\\right).\n",
    "\\end{align*}\n",
    "The log-likelihood is\n",
    "\\begin{equation}\n",
    "\\log \\mathcal{L}\\left({\\beta_0,\\beta_1}\\right) = -\\frac{n}{2}\\log\\left({2 \\pi \\sigma_{\\epsilon}^2}\\right) - \\frac{1}{2\\sigma_{\\epsilon}^2}\\sum_{i=1}^{n}\\left({y_i-\\left({\\beta_0 + \\beta_1 x_i}\\right)}\\right)^2. \\label{llh}\n",
    "\\end{equation}\n",
    "We constrain the score function so that $\\nabla \\log \\mathcal{L}\\left({\\beta_0,\\beta_1}\\right) = \\mathbf{0}$, or\n",
    "\\begin{align*}\n",
    "0 &= \\frac{\\partial}{\\partial \\beta_0}\\log \\mathcal{L}\\left({\\beta_0,\\beta_1}\\right) \\\\\n",
    "0 &= \\frac{\\partial}{\\partial \\beta_1}\\log \\mathcal{L}\\left({\\beta_0,\\beta_1}\\right),\n",
    "\\end{align*}\n",
    "\\noindent and simplifications yield the so-called normal equations:\n",
    "\\begin{align}\n",
    "0 &= \\sum_{i=1}^{n}\\left({Y_i-\\left({b_{0}+b_1 X_i}\\right)}\\right) \\label{ne1} \\\\\n",
    "0 &= \\sum_{i=1}^{n}X_i\\left({Y_i-\\left({b_0+b_1 X_i}\\right)}\\right). \\label{ne2}\n",
    "\\end{align}\n",
    "Here, the notation $b_0$ and $b_1$ in place of $\\beta_0$ and $\\beta_1$ indicates that we have selected estimators of our parameters."
   ]
  },
  {
   "cell_type": "markdown",
   "metadata": {},
   "source": [
    "\\begin{remark}\n",
    "Unless stated otherwise, parameters will be denoted by Greek letters ($\\beta$,$\\sigma$,$\\rho$) and their estimators  will be denoted by their corresponding Latin letters ($b$,$s$,$R$). For any random variable $T$, we denote the population mean by\n",
    "\\begin{equation*}\n",
    "\\mu_T = \\mathbb{E}\\left[{T}\\right],\n",
    "\\end{equation*}\n",
    "the population variance by\n",
    "\\begin{equation*}\n",
    "\\sigma^2_T = \\mathrm{Var}\\left({T}\\right) = \\mathbb{E}\\left[{\\left({T-\\mu_{T}}\\right)^2}\\right],\n",
    "\\end{equation*}\n",
    "and the population standard deviation by\n",
    "\\begin{equation*}\n",
    "\\sigma_T = \\sqrt{\\mathrm{Var}\\left({T}\\right)}.\n",
    "\\end{equation*}\n",
    "Likewise, we denote the sample variance by\n",
    "\\begin{equation*}\n",
    "s^2_T = \\frac{1}{n-1}\\sum_{i=1}^{n}\\left({T_i-\\bar{T}}\\right)^2,\n",
    "\\end{equation*}\n",
    "and the sample standard deviation by\n",
    "\\begin{equation*}\n",
    "s_T = \\sqrt{\\frac{1}{n-1}\\sum_{i=1}^{n}\\left({T_i-\\bar{T}}\\right)^2}.\n",
    "\\end{equation*}\n",
    "\\end{remark}"
   ]
  },
  {
   "cell_type": "markdown",
   "metadata": {},
   "source": [
    "\\begin{remark}\n",
    "To simplify notation, we shall consider the sample $X_1,\\dots,X_n$ to be observed and fixed (IE, not random), unless specified otherwise. However, we must be careful in doing so. For example,\n",
    "\\begin{equation*}\n",
    "\\sigma_{Y|X}^2 = \\sigma_{\\epsilon}^2,\n",
    "\\end{equation*}\n",
    "but\n",
    "\\begin{equation*}\n",
    "\\sigma_{Y}^2 \\neq \\sigma_{\\epsilon}^2.\n",
    "\\end{equation*}\n",
    "In particular,\n",
    "\\begin{align*}\n",
    "\\sigma_{Y}^2 &= \\mathrm{Var}\\left({Y}\\right) \\\\\n",
    "&= \\mathrm{Var}\\left({\\beta_0 + \\beta_1 X + \\epsilon}\\right) \\\\\n",
    "&= \\beta_1^2\\mathrm{Var}\\left({X}\\right) + \\mathrm{Var}\\left({\\epsilon}\\right) \\\\\n",
    "&= \\beta_1^2\\sigma^2_{X} + \\sigma^2_{\\epsilon}.\n",
    "\\end{align*}\n",
    "\\end{remark}"
   ]
  },
  {
   "cell_type": "markdown",
   "metadata": {},
   "source": [
    "\\begin{remark}\n",
    "An alternative derivation of the normal equations begins with the optimization objective\n",
    "\\begin{equation*}\n",
    "\\begin{bmatrix}\n",
    "b_0 \\\\\n",
    "b_1\n",
    "\\end{bmatrix} = \\arg\\min_{b_0,b_1}\\sum_{i=1}^{n}\\left({Y_i-\\left({b_0+b_1X_i}\\right)}\\right)^2.\n",
    "\\end{equation*}\n",
    "The quantity\n",
    "\\begin{equation*}\n",
    "\\sum_{i=1}^{n}\\left({Y_i-\\left({b_0+b_1X_i}\\right)}\\right)^2\n",
    "\\end{equation*}\n",
    "is known as the sum of squared errors and shall be revisited in a later section.\n",
    "\\end{remark}"
   ]
  },
  {
   "cell_type": "markdown",
   "metadata": {},
   "source": [
    "## The Residuals"
   ]
  },
  {
   "cell_type": "markdown",
   "metadata": {},
   "source": [
    "\\begin{definition}\n",
    "For each $i$, define\n",
    "\\begin{equation*}\n",
    "\\hat{Y}_i \\equiv b_0 + b_1X_i,\n",
    "\\end{equation*}\n",
    "and\n",
    "\\begin{equation*}\n",
    "\\hat{\\epsilon}_{i} \\equiv Y_{i} - \\hat{Y}_{i}.\n",
    "\\end{equation*}\n",
    "\\end{definition}"
   ]
  },
  {
   "cell_type": "markdown",
   "metadata": {},
   "source": [
    "\\begin{corollary}\n",
    "\\begin{align}\n",
    "& \\sum_{i=1}^{n}\\hat{\\epsilon}_{i} = 0 \\label{8:38 11/14/2019} \\\\\n",
    "& \\sum_{i=1}^{n}X_i\\hat{\\epsilon}_{i} = 0 \\label{8:39 11/14/2019} \\\\\n",
    "& \\sum_{i=1}^{n}\\left({X_i-\\bar{X}}\\right)\\hat{\\epsilon}_{i} = 0 \\label{8:40 11/14/2019} \\\\\n",
    "& \\sum_{i=1}^{n}\\hat{Y}_i\\hat{\\epsilon}_{i} = 0. \\label{8:41 11/14/2019}\n",
    "\\end{align}\n",
    "\\end{corollary}\n",
    "\n",
    "\\begin{proof}\n",
    "Equation \\eqref{8:38 11/14/2019} results from the first normal equation \\eqref{ne1}, and \\eqref{8:39 11/14/2019} results from the second \\eqref{ne2}. If $\\sum_{i=1}^{n}\\hat{\\epsilon}_{i}$ is zero, then so too is $\\bar{X}\\sum_{i=1}^{n}\\hat{\\epsilon}_{i}$. The difference of this and \\eqref{8:39 11/14/2019} produces \\eqref{8:40 11/14/2019}. Equation \\eqref{8:41 11/14/2019} is a linear combination of equations \\eqref{8:38 11/14/2019} and \\eqref{8:39 11/14/2019}.\n",
    "\\end{proof}"
   ]
  },
  {
   "cell_type": "markdown",
   "metadata": {},
   "source": [
    "## The Coefficient Estimators"
   ]
  },
  {
   "cell_type": "markdown",
   "metadata": {},
   "source": [
    "\\begin{theorem}\n",
    "The estimators that satisfy the normal equations are\n",
    "\\begin{align}\n",
    "b_0 &= \\bar{Y} -  b_1\\bar{X}  \\label{7:20 11/26/2019}.\\\\\n",
    "b_1 &= \\frac{\\sum_{i=1}^{n}\\left({X_i-\\bar{X}}\\right)\\left({Y_i-\\bar{Y}}\\right)}{\\sum_{j=1}^{n}\\left({X_j-\\bar{X}}\\right)^2} \\label{9:35 11/14/2019}.\n",
    "\\end{align}\n",
    "\\end{theorem}\n",
    "\n",
    "\\begin{proof}\n",
    "From the first normal equation \\eqref{ne1}, we have\n",
    "\\begin{align*}\n",
    "0 &= \\sum_{i=1}^{n}\\left({Y_i-\\left({b_0+b_1 X_i}\\right)}\\right) \\\\\n",
    "&= \\sum_{i=1}^{n}Y_i - nb_0 - b_1\\sum_{i=1}^{n}X_i.\n",
    "\\end{align*}\n",
    "Dividing both sides by $n$ produces\n",
    "\\begin{align*}\n",
    "0 &= \\bar{Y} - b_0 - b_1\\bar{X} \\\\\n",
    "b_0 &= \\bar{Y}- b_1\\bar{X},\n",
    "\\end{align*}\n",
    "and hence \\eqref{9:35 11/14/2019}. Now,\n",
    "\\begin{align*}\n",
    "Y_i &= \\underbrace{Y_i - \\hat{Y}_i}_{\\hat{\\epsilon}_i} + \\hat{Y}_i \\\\\n",
    "&= b_0+b_1X_i + \\hat{\\epsilon}_i.\n",
    "\\end{align*}\n",
    "Substituting $b_0 = \\bar{Y}- b_1\\bar{X}$ into this produces\n",
    "\\begin{equation*}\n",
    "Y_i - \\bar{Y}= b_1\\left({X_i-\\bar{X}}\\right) + \\hat{\\epsilon}_i.\n",
    "\\end{equation*}\n",
    "Multiply both sides by $\\left({X_i - \\bar{X}}\\right)$ to attain\n",
    "\\begin{equation*}\n",
    "\\left({X_i - \\bar{X}}\\right)\\left({Y_i - \\bar{Y}}\\right) = b_1\\left({X_i-\\bar{X}}\\right)^2 + \\left({X_i - \\bar{X}}\\right)\\hat{\\epsilon}_i.\n",
    "\\end{equation*}\n",
    "Since this is true for all indices $i$, we can sum over all indices\n",
    "\\begin{equation*}\n",
    "\\sum_{i=1}^{n}\\left({X_i - \\bar{X}}\\right)\\left({Y_i - \\bar{Y}}\\right) = b_1\\sum_{i=1}^{n}\\left({X_i-\\bar{X}}\\right)^2 + \\underbrace{\\sum_{i=1}^{n}\\left({X_i - \\bar{X}}\\right)\\hat{\\epsilon}_i}_{0}.\n",
    "\\end{equation*}\n",
    "Solving for $b_1$, we see\n",
    "\\begin{equation*}\n",
    "b_1 = \\frac{\\sum_{i=1}^{n}\\left({X_i - \\bar{X}}\\right)\\left({Y_i - \\bar{Y}}\\right)}{\\sum_{j=1}^{n}\\left({X_j-\\bar{X}}\\right)^2}.\n",
    "\\end{equation*}\n",
    "\\end{proof}"
   ]
  },
  {
   "cell_type": "markdown",
   "metadata": {},
   "source": [
    "\\begin{remark}\n",
    "It still remains to show that our selection of $b_0$ and $b_1$ maximizes the likelihood function. This can be shown using the second derivative test, but we omit details as they are not important.\n",
    "\\end{remark}"
   ]
  },
  {
   "cell_type": "markdown",
   "metadata": {},
   "source": [
    "\\begin{remark}\n",
    "The $\\bar{Y}$ in the above expression is not even necessary since\n",
    "\\begin{align*}\n",
    "\\frac{\\sum_i \\left({X_i - \\bar{X}}\\right)\\left({Y_i-\\bar{Y}}\\right)}{\\sum_j \\left({X_j - \\bar{X}}\\right)^2} &= \n",
    "\\frac{\\sum_i \\left({X_i - \\bar{X}}\\right)Y_i}{\\sum_j \\left({X_j - \\bar{X}}\\right)^2} - \\frac{\\sum_i \\left({X_i - \\bar{X}}\\right)\\bar{Y}}{\\sum_j \\left({X_j - \\bar{X}}\\right)^2} \\\\\n",
    "&= \\frac{\\sum_i \\left({X_i - \\bar{X}}\\right)Y_i}{\\sum_j \\left({X_j - \\bar{X}}\\right)^2} - \\frac{\\bar{Y}}{\\sum_j \\left({X_j - \\bar{X}}\\right)^2}\\underbrace{\\sum_{i=1}^{n} \\left({X_i - \\bar{X}}\\right)}_{0} \\\\\n",
    "&= \\frac{\\sum_i \\left({X_i - \\bar{X}}\\right)Y_i}{\\sum_j \\left({X_j - \\bar{X}}\\right)^2}.\n",
    "\\end{align*}\n",
    "Furthermore,\n",
    "\\begin{equation}\n",
    "\\frac{\\sum_i \\left({X_i - \\bar{X}}\\right)Y_i}{\\sum_j \\left({X_j - \\bar{X}}\\right)^2}\n",
    "= \\sum_{i=1}^{n}\\underbrace{\\frac{X_i-\\bar{X}}{\\sum_{j}\\left({X_j-\\bar{X}}\\right)^2}}_{k_i}Y_i.\n",
    "\\label{9:05 11/15/2018}\n",
    "\\end{equation}\n",
    "We immediately see that $b_1$ is a linear combination of $Y_i$, with constants \n",
    "\\begin{equation*}\n",
    "k_i = \\frac{X_i-\\bar{X}}{\\sum_{j=1}^{n}\\left({X_j-\\bar{X}}\\right)^2}.\n",
    "\\end{equation*}\n",
    "Hereafter, we shall use $b_1$ as it appears in the form \\eqref{9:05 11/15/2018}.\n",
    "\\end{remark}"
   ]
  },
  {
   "cell_type": "markdown",
   "metadata": {},
   "source": [
    "\\begin{remark}\n",
    "An alternative derivation for $b_1$ proceeds as follows: Let us consider $X$ to be a random variable that is independent of $\\epsilon$. We have\n",
    "\\begin{align*}\n",
    "\\mathrm{Cov}\\left({X,Y}\\right)\n",
    "&= \\mathrm{Cov}\\left({X,\\beta_0 + \\beta_1 X + \\epsilon}\\right) \\\\\n",
    "&= \\underbrace{\\mathrm{Cov}\\left({X,\\beta_0}\\right)}_{0} + \\beta_1\\mathrm{Cov}\\left({X,X}\\right) + \\underbrace{\\mathrm{Cov}\\left({X,\\epsilon}\\right)}_{0} \\\\\n",
    "&= \\beta_1 \\mathrm{Var}\\left({X}\\right),\n",
    "\\end{align*}\n",
    "which gives\n",
    "\\begin{equation}\n",
    "\\beta_1 = \\frac{\\mathrm{Cov}\\left({X,Y}\\right)}{\\mathrm{Var}\\left({X}\\right)} = \\frac{\\sigma_{XY}^2}{\\sigma_{X}^2}. \\label{4:55 11/22/2019}\n",
    "\\end{equation}\n",
    "Substitution of the estimators\n",
    "\\begin{align*}\n",
    "s_{XY}^2 &= \\frac{1}{n-1}\\sum_{i=1}^{n}\\left({X_i-\\bar{X}}\\right)\\left({Y_i-\\bar{Y}}\\right) \\\\\n",
    "s_{X}^2 &= \\frac{1}{n-1}\\sum_{i=1}^{n}\\left({X_i-\\bar{X}}\\right)^2\n",
    "\\end{align*}\n",
    "into \\eqref{4:55 11/22/2019} produces \\eqref{9:35 11/14/2019}. Thus, $b_1$ can be written as\n",
    "\\begin{equation}\n",
    "b_1 = \\frac{s_{XY}^{2}}{s_{X}^2}.\n",
    "\\end{equation}\n",
    "\\end{remark}"
   ]
  },
  {
   "cell_type": "markdown",
   "metadata": {},
   "source": [
    "## Example\n",
    "Take $10^2$ points from\n",
    "* $X \\sim \\mathrm{Unif}\\left({0,10}\\right)$\n",
    "* $\\beta_0 = 1$\n",
    "* $\\beta_1 = 2$ \n",
    "* $\\sigma = 1.5$."
   ]
  },
  {
   "cell_type": "code",
   "execution_count": 2,
   "metadata": {},
   "outputs": [],
   "source": [
    "np.random.seed(0)\n",
    "n = 10**2; X = uniform.rvs(loc=0,scale=10,size=n)"
   ]
  },
  {
   "cell_type": "code",
   "execution_count": 3,
   "metadata": {},
   "outputs": [],
   "source": [
    "beta0 = 1; beta1 = 2; sigma = 1.5\n",
    "Y = norm.rvs(loc = beta0 + beta1*X, scale = sigma)"
   ]
  },
  {
   "cell_type": "code",
   "execution_count": 4,
   "metadata": {
    "scrolled": false
   },
   "outputs": [
    {
     "data": {
      "image/png": "[encoded data removed]",
      "text/plain": [
       "<Figure size 432x288 with 1 Axes>"
      ]
     },
     "metadata": {
      "needs_background": "light"
     },
     "output_type": "display_data"
    }
   ],
   "source": [
    "plt.scatter(X,Y); plt.plot(X,beta0 + beta1*X,'r');"
   ]
  },
  {
   "cell_type": "markdown",
   "metadata": {},
   "source": [
    "Define the estimator functions:"
   ]
  },
  {
   "cell_type": "code",
   "execution_count": 5,
   "metadata": {},
   "outputs": [],
   "source": [
    "def b1(X,Y):\n",
    "    k = (X - X.mean()) / sum((X - X.mean())**2)\n",
    "    return np.dot(Y,k)"
   ]
  },
  {
   "cell_type": "code",
   "execution_count": 6,
   "metadata": {},
   "outputs": [],
   "source": [
    "def b0(X,Y):\n",
    "    Ybar = np.dot(Y,np.ones(n))/n\n",
    "    return Ybar - b1(X,Y)*X.mean()"
   ]
  },
  {
   "cell_type": "code",
   "execution_count": 7,
   "metadata": {
    "scrolled": false
   },
   "outputs": [
    {
     "name": "stdout",
     "output_type": "stream",
     "text": [
      "1.3332266161708475 1\n"
     ]
    }
   ],
   "source": [
    "print(b0(X,Y),beta0)"
   ]
  },
  {
   "cell_type": "code",
   "execution_count": 8,
   "metadata": {},
   "outputs": [
    {
     "name": "stdout",
     "output_type": "stream",
     "text": [
      "1.9905402532103045 2\n"
     ]
    }
   ],
   "source": [
    "print(b1(X,Y),beta1)"
   ]
  },
  {
   "cell_type": "code",
   "execution_count": 9,
   "metadata": {
    "scrolled": true
   },
   "outputs": [
    {
     "data": {
      "image/png": "[encoded data removed]",
      "text/plain": [
       "<Figure size 432x288 with 1 Axes>"
      ]
     },
     "metadata": {
      "needs_background": "light"
     },
     "output_type": "display_data"
    }
   ],
   "source": [
    "plt.scatter(X,Y)\n",
    "plt.plot(X,beta0 + beta1*X,'r',label='Truth')\n",
    "plt.plot(X,b0(X,Y) + b1(X,Y)*X,'g--',label='Estimate')\n",
    "plt.xlabel('X'); plt.ylabel('Y'); plt.legend();"
   ]
  },
  {
   "cell_type": "markdown",
   "metadata": {},
   "source": [
    "# The Coefficient Sampling Distributions"
   ]
  },
  {
   "cell_type": "markdown",
   "metadata": {},
   "source": [
    "## Properties of the $k_i$"
   ]
  },
  {
   "cell_type": "markdown",
   "metadata": {},
   "source": [
    "\\begin{corollary}\n",
    "For each $i$,\n",
    "\\begin{equation*}\n",
    "k_i = \\frac{X_i-\\bar{X}}{\\left({n-1}\\right)s_{X}^2}.\n",
    "\\end{equation*}\n",
    "\\end{corollary}\n",
    "\n",
    "\\begin{proof}\n",
    "This follows directly from the substitution of\n",
    "\\begin{equation*}\n",
    "s_{X}^2 = \\frac{1}{n-1}\\sum_{j=1}^{n}\\left({X_j-\\bar{X}}\\right)^2\n",
    "\\end{equation*}\n",
    "into\n",
    "\\begin{equation*}\n",
    "k_i = \\frac{X_i-\\bar{X}}{\\sum_{j=1}^{n}\\left({X_j-\\bar{X}}\\right)^2}.\n",
    "\\end{equation*}\n",
    "\\end{proof}"
   ]
  },
  {
   "cell_type": "markdown",
   "metadata": {},
   "source": [
    "\\begin{proposition}\n",
    "\\begin{equation*}\n",
    "\\sum_{i=1}^{n}k_i = 0\n",
    "\\end{equation*}\n",
    "\\end{proposition}\n",
    "\n",
    "\\begin{proof}\n",
    "\\begin{align*}\n",
    "\\sum_{i=1}^{n}k_i &= \\sum_{i=1}^{n}\\frac{X_i-\\bar{X}}{\\left({n-1}\\right)s_{X}^2} \\\\\n",
    "&= \\frac{1}{\\left({n-1}\\right)s_{X}^2}\\underbrace{\\sum_{i=1}^{n}\\left({X_i-\\bar{X}}\\right)}_{0} \\\\\n",
    "&= 0\n",
    "\\end{align*}\n",
    "\\end{proof}"
   ]
  },
  {
   "cell_type": "markdown",
   "metadata": {},
   "source": [
    "\\begin{proposition}\n",
    "\\begin{equation*}\n",
    "\\sum_{i=1}^{n}k_iX_{i} = 1\n",
    "\\end{equation*}\n",
    "\\end{proposition}\n",
    "\n",
    "\\begin{proof}\n",
    "\\begin{align*}\n",
    "\\sum_{i=1}^{n}k_iX_{i} &= \\sum_{i=1}^{n}\\left({\\frac{X_i-\\bar{X}}{(n-1)s^2_X}}\\right)X_i \\\\\n",
    "&= \\frac{\\sum_{i=1}^{n}\\left({X_i-\\bar{X}}\\right)X_i}{\\left({n-1}\\right)s_{X}^2} \\\\\n",
    "&= \\frac{\\sum_{i=1}^{n}\\left({X_i-\\bar{X}}\\right)X_i}{\\left({n-1}\\right)s_{X}^2} - \\underbrace{\\frac{\\sum_{i=1}^{n}\\left({X_i-\\bar{X}}\\right)\\bar{X}}{\\left({n-1}\\right)s_{X}^2}}_{0} \\\\\n",
    "&= \\frac{\\sum_{i=1}^{n}\\left({X_i-\\bar{X}}\\right)\\left({X_i-\\bar{X}}\\right)}{\\left({n-1}\\right)s_{X}^2} \\\\\n",
    "&= \\frac{\\sum_{i=1}^{n}\\left({X_i-\\bar{X}}\\right)^2}{\\left({n-1}\\right)s_{X}^2} \\\\\n",
    "&= 1\n",
    "\\end{align*}\n",
    "\\end{proof}\n"
   ]
  },
  {
   "cell_type": "markdown",
   "metadata": {},
   "source": [
    "\\begin{proposition}\n",
    "\\begin{equation*}\n",
    "\\sum_{i=1}^{n}k_i^{2} = \\frac{1}{\\left({n-1}\\right)s_X^2}\n",
    "\\end{equation*}\n",
    "\\end{proposition}\n",
    "\n",
    "\\begin{proof}\n",
    "\\begin{align*}\n",
    "\\sum_{i=1}^{n}k_i^2 &= \\sum_{i=1}^{n}\\left({\\frac{X_i-\\bar{X}}{(n-1)s_X^2}}\\right)^2 \\\\\n",
    "&= \\frac{1}{(n-1)\\left({s_X^2}\\right)^2}\\underbrace{\\sum_{i=1}^{n}\\frac{\\left({X_i-\\bar{X}}\\right)^2}{n-1}}_{s_X^2} \\\\\n",
    "&= \\frac{1}{\\left({n-1}\\right)s_X^2}\n",
    "\\end{align*}\n",
    "\\end{proof}"
   ]
  },
  {
   "cell_type": "markdown",
   "metadata": {},
   "source": [
    "\\begin{proposition}\n",
    "Shifting each $X_i$ by the same arbitrary constant $c$ does not change $k_i$.\n",
    "\\end{proposition}\n",
    "\n",
    "\\begin{proof}\n",
    "Let $k_i'$ be the value of $k_i$ as a function of $X_i'=X_i+c$. We note immediately that\n",
    "\\begin{align*}\n",
    "\\bar{X'} &= \\frac{1}{n}\\sum_{i=1}^{n}\\left({X_i+c}\\right) \\\\\n",
    "&= \\bar{X} + c.\n",
    "\\end{align*}\n",
    "Thus, $s_X^2$ does not change, since\n",
    "\\begin{equation*}\n",
    "s_{X'}^2 = \\frac{1}{n-1}\\sum_{i=1}^{n}\\left({X_i'-\\bar{X'}}\\right)^2 = \\frac{1}{n-1}\\sum_{i=1}^{n}\\left({\\left({X_i + c}\\right)-\\left({\\bar{X}+c}\\right)}\\right)^2 = s_X^2.\n",
    "\\end{equation*}\n",
    "Hence, the denominator of each $k_i$ is unchanged. The numerator of each $k_i$ also does not change since\n",
    "\\begin{equation*}\n",
    "X_i' - \\bar{X'} = \\left({X_i + c}\\right) - \\left({\\bar{X}+c}\\right) = X_i - \\bar{X}.\n",
    "\\end{equation*}\n",
    "Thus, each $k_i$ stays the same.\n",
    "\\end{proof}"
   ]
  },
  {
   "cell_type": "markdown",
   "metadata": {},
   "source": [
    "## Sampling Distribution of $b_1$"
   ]
  },
  {
   "cell_type": "markdown",
   "metadata": {},
   "source": [
    "\\begin{corollary}\n",
    "Shifting each $X_i$ by the same arbitrary constant $c$ does not change $b_1$.\n",
    "\\end{corollary}\n",
    "\\begin{proof}\n",
    "Since $b_1=\\sum_{i}k_iY_i$, it follows that each $k_i$ being unchanged also leaves $b_1$ unchanged.\n",
    "\\end{proof}"
   ]
  },
  {
   "cell_type": "markdown",
   "metadata": {},
   "source": [
    "\\begin{theorem}\n",
    "\\label{theo:b1unbiased}\n",
    "$b_1$ is an unbiased estimator of $\\beta_1$. That is, $\\mathbb{E}\\left[{b_1}\\right]=\\beta_1$.\n",
    "\\end{theorem}\n",
    "\n",
    "\\begin{proof}\n",
    "\\begin{align*}\n",
    "\\mathbb{E}\\left[{b_1}\\right] &= \\mathbb{E}\\left[{\\sum_{i=1}^{n}k_iY_i}\\right] \\\\\n",
    "&= \\sum_{i=1}^{n}k_i\\mathbb{E}\\left[{Y_i}\\right] \\\\\n",
    "&= \\sum_{i=1}^{n}k_i\\left({\\beta_0+\\beta_1X_i}\\right) \\\\\n",
    "&= \\beta_0\\underbrace{\\sum_{i=1}^{n}k_i}_{0} + \\beta_1\\underbrace{\\sum_{i=1}^{n}k_iX_i}_{1} \\\\\n",
    "&= \\beta_1\n",
    "\\end{align*}\n",
    "\\end{proof}"
   ]
  },
  {
   "cell_type": "markdown",
   "metadata": {},
   "source": [
    "\\begin{theorem}\n",
    "\\label{theo:b1var}\n",
    "\\begin{equation*}\n",
    "\\sigma^2_{b_1} = \\frac{\\sigma^2_{\\epsilon}}{(n-1)s^2_{X}}\n",
    "\\end{equation*}\n",
    "\\end{theorem}\n",
    "\n",
    "\\begin{proof}\n",
    "\\begin{equation*}\n",
    "\\mathrm{Var}\\left({b_1}\\right) = \\mathrm{Var}\\left({\\sum_{i=1}^{n}k_iY_i}\\right) = \\underbrace{\\sum_{i=1}^{n}k_i^2}_{1/(n-1)s^2_X}\\underbrace{\\mathrm{Var}\\left({Y_i}\\right)}_{\\sigma^2_{\\epsilon}} = \\frac{\\sigma^2_{\\epsilon}}{(n-1)s^2_{X}}\n",
    "\\end{equation*}\n",
    "Here, we assert that $\\mathrm{Var}\\left({Y_i}\\right) = \\sigma^2_{\\epsilon}$ on the basis that $X_i$ has already been conditioned upon.\n",
    "\\end{proof}\n"
   ]
  },
  {
   "cell_type": "markdown",
   "metadata": {},
   "source": [
    "\\begin{theorem}\n",
    "\\label{theo:beta1dist}\n",
    "\\begin{equation*}\n",
    "b_1 \\sim \\mathcal{N}\\left({\\beta_1,\\frac{\\sigma_{\\epsilon}^2}{(n-1)s^2_X}}\\right)\n",
    "\\end{equation*}\n",
    "\\end{theorem}\n",
    "\n",
    "\\begin{proof}\n",
    "We have already shown the mean and variance, so it remains to show the distribution. This follows immediately from the observation that $b_1$ is a linear combination of independent normally distributed $Y_i$, and must therefore also be normally distributed.\n",
    "\\end{proof}"
   ]
  },
  {
   "cell_type": "code",
   "execution_count": 10,
   "metadata": {},
   "outputs": [],
   "source": [
    "np.random.seed(0)\n",
    "nsamp = 10**4"
   ]
  },
  {
   "cell_type": "code",
   "execution_count": 11,
   "metadata": {},
   "outputs": [],
   "source": [
    "varb1 =  sigma**2/np.sum((X-X.mean())**2)\n",
    "Y = norm.rvs(size=(nsamp,n), loc = beta0 + beta1*X, scale = sigma)\n",
    "b1samp = b1(X,Y)"
   ]
  },
  {
   "cell_type": "code",
   "execution_count": 12,
   "metadata": {},
   "outputs": [],
   "source": [
    "x = np.linspace(min(b1samp),max(b1samp),101)\n",
    "p = norm.pdf(x, loc = beta1, scale = np.sqrt(varb1))"
   ]
  },
  {
   "cell_type": "code",
   "execution_count": 13,
   "metadata": {
    "scrolled": true
   },
   "outputs": [
    {
     "data": {
      "image/png": "[encoded data removed]",
      "text/plain": [
       "<Figure size 432x288 with 1 Axes>"
      ]
     },
     "metadata": {
      "needs_background": "light"
     },
     "output_type": "display_data"
    }
   ],
   "source": [
    "plt.hist(b1samp,bins=100,density=True,label='Empirical Sample')\n",
    "plt.plot(x,p,label='Theoretical Density',c='r')\n",
    "plt.title(r'Sampling Distribution of $b_1$'); plt.legend();"
   ]
  },
  {
   "cell_type": "markdown",
   "metadata": {},
   "source": [
    "## Sampling Distribution of $b_0$"
   ]
  },
  {
   "cell_type": "markdown",
   "metadata": {},
   "source": [
    "\\begin{theorem}\n",
    "\\label{theo:b0unbiased}\n",
    "$b_0$ is an unbiased estimator of $\\beta_0$.\n",
    "\\end{theorem}\n",
    "\n",
    "\\begin{proof}\n",
    "\\begin{equation*}\n",
    "\\mathbb{E}\\left[{b_0}\\right] = \\mathbb{E}\\left[{\\bar{Y} - b_1\\bar{X}}\\right] = \\mathbb{E}\\left[{\\bar{Y}}\\right] - \\mathbb{E}\\left[{b_1}\\right]\\bar{X} = \\left({\\beta_0 + \\beta_1 \\bar{X}}\\right) - \\beta_1 \\bar{X} = \\beta_0\n",
    "\\end{equation*}\n",
    "\\end{proof}\n",
    "\n",
    "\\begin{remark}\n",
    "\\label{rem:74711272019}\n",
    "It may be helpful to see\n",
    "\\begin{equation*}\n",
    "\\mathbb{E}\\left[{\\bar{Y}}\\right] = \\mathbb{E}\\left[{\\frac{1}{n}\\sum_{i=1}^{n}Y_i}\\right] = \\frac{1}{n}\\sum_{i=1}^{n}\\mathbb{E}\\left[{Y_i}\\right] = \\frac{1}{n}\\sum_{i=1}^{n}\\left({\\beta_0 + \\beta_1 X_i}\\right) = \\beta_0 + \\beta_1\\bar{X}.\n",
    "\\end{equation*}\n",
    "\\end{remark}"
   ]
  },
  {
   "cell_type": "markdown",
   "metadata": {},
   "source": [
    "\\begin{theorem}\n",
    "\\label{theo:varb0}\n",
    "\\begin{equation*}\n",
    "\\sigma^2_{b_0} = \\sigma^2_{\\epsilon}\\left({\\frac{1}{n}+\\frac{\\bar{X}^2}{(n-1)s_X^2}}\\right)\n",
    "\\end{equation*}\n",
    "\\end{theorem}\n",
    "\n",
    "\\begin{proof}\n",
    "\\begin{align*}\n",
    "\\mathrm{Var}\\left({b_0}\\right) &= \\mathrm{Var}\\left({\\bar{Y} - b_1\\bar{X}}\\right) \\\\\n",
    "&= \\mathrm{Var}\\left({\\bar{Y}}\\right) + \\mathrm{Var}\\left({b_1\\bar{X}}\\right) \\\\\n",
    "&= \\frac{\\sigma_{\\epsilon}^2}{n} + \\bar{X}^2\\mathrm{Var}\\left({b_1}\\right) \\\\\n",
    "&= \\frac{\\sigma_{\\epsilon}^2}{n} + \\bar{X}^2\\frac{\\sigma_{\\epsilon}^2}{(n-1)s^2_X} \\\\\n",
    "&= \\sigma_{\\epsilon}^2 \\left({\\frac{1}{n}+\\frac{\\bar{X}^2}{(n-1)s^2_X}}\\right).\n",
    "\\end{align*}\n",
    "\\end{proof}\n"
   ]
  },
  {
   "cell_type": "markdown",
   "metadata": {},
   "source": [
    "\\begin{theorem}\n",
    "\\label{theo:beta0dist}\n",
    "\\begin{equation*}\n",
    "b_0 \\sim \\mathcal{N}\\left({\\beta_0, \\sigma_{\\epsilon}^2 \\left({\\frac{1}{n}+\\frac{\\bar{X}^2}{(n-1)s_X^2}}\\right)}\\right)\n",
    "\\end{equation*}\n",
    "\\end{theorem}\n",
    "\n",
    "\\begin{proof}\n",
    "We have shown the mean and variance, so it remains to show the distribution. Since each $Y_i$ is normal, so too is $\\bar{Y}$ (being a linear combination of $Y_i$). We have established that $b_1$ is normal. If each $X_i$ is known, then $\\bar{X}$ is a constant. Thus, $b_0$ is a linear combination of normal random variables, and is also normal.\n",
    "\\end{proof}"
   ]
  },
  {
   "cell_type": "code",
   "execution_count": 14,
   "metadata": {},
   "outputs": [],
   "source": [
    "varb0 =  sigma**2 * (1/n + (X.mean()**2)/sum((X-X.mean())**2))\n",
    "b0samp = b0(X,Y)"
   ]
  },
  {
   "cell_type": "code",
   "execution_count": 15,
   "metadata": {},
   "outputs": [],
   "source": [
    "x = np.linspace(min(b0samp),max(b0samp),101)\n",
    "p = norm.pdf(x, loc = beta0, scale = np.sqrt(varb0))"
   ]
  },
  {
   "cell_type": "code",
   "execution_count": 16,
   "metadata": {},
   "outputs": [
    {
     "data": {
      "image/png": "[encoded data removed]",
      "text/plain": [
       "<Figure size 432x288 with 1 Axes>"
      ]
     },
     "metadata": {
      "needs_background": "light"
     },
     "output_type": "display_data"
    }
   ],
   "source": [
    "plt.hist(b0samp,bins=100,density=True,label='Empirical Sample')\n",
    "plt.plot(x,p,label='Theoretical Density',c='r')\n",
    "plt.title(r'Sample Distribution of $b_0$'); plt.legend();"
   ]
  },
  {
   "cell_type": "markdown",
   "metadata": {},
   "source": [
    "## The Gauss-Markov Theorem"
   ]
  },
  {
   "cell_type": "markdown",
   "metadata": {},
   "source": [
    "\\begin{lemma}\n",
    "\\label{lem:73111272019}\n",
    "Let\n",
    "\\begin{equation*}\n",
    "b_1' = \\sum_{i=1}^{n}c_iY_i\n",
    "\\end{equation*}\n",
    "be another linear unbiased estimator of $\\beta_1$. Then,\n",
    "\\begin{align}\n",
    "\\sum_{i=1}^{n}c_i &= 0 \\label{80511272019} \\\\\n",
    "\\sum_{i=1}^{n}c_iX_i &= 1 \\label{80611272019} \\\\\n",
    "\\sum_{i=1}^{n}c_ik_i &= \\frac{1}{(n-1)s^2_{X}} \\label{80711272019} \\\\\n",
    "\\sum_{i=1}^{n}\\left({c_i-k_i}\\right)k_i &= 0. \\label{81011272019} \n",
    "\\end{align}\n",
    "\\end{lemma}\n",
    "\n",
    "\\begin{proof}\n",
    "Since $b_1'$ is unbiased, we require\n",
    "\\begin{align*}\n",
    "\\beta_1 &= \\mathbb{E}\\left[{b_1'}\\right] \\\\\n",
    "&= \\mathbb{E}\\left[{\\sum_{i=1}^{n}c_iY_i}\\right] \\\\\n",
    "&= \\sum_{i=1}^{n}c_i\\mathbb{E}\\left[{Y_i}\\right] \\\\\n",
    "&= \\sum_{i=1}^{n}c_i\\left({\\beta_0+\\beta_1X_i}\\right) \\\\\n",
    "&= \\beta_0\\underbrace{\\sum_{i=1}^{n}c_i}_{0} + \\beta_1\\underbrace{\\sum_{i=1}^{n}c_iX_i}_{1}\n",
    "\\end{align*}\n",
    "This proves \\eqref{80511272019} and \\eqref{80611272019}. Now,\n",
    "\\begin{align*}\n",
    "\\sum_{i=1}^{n}c_i k_i &= \\sum_{i=1}^{n}c_i\\left({\\frac{X_i-\\bar{X}}{(n-1)s^2_X}}\\right) \\\\\n",
    "&= \\frac{1}{(n-1)s^2_X}\\underbrace{\\sum_{i=1}^{n}c_iX_i}_{1} + \\frac{\\bar{X}}{(n-1)s^2_X}\\underbrace{\\sum_{i=1}^{n}c_i}_{0} \\\\\n",
    "&= \\frac{1}{(n-1)s^2_X}\n",
    "\\end{align*}\n",
    "and thus \\eqref{80711272019}. To see \\eqref{81011272019}, consider\n",
    "\\begin{equation*}\n",
    "\\sum_{i=1}^{n}c_ik_i = \\frac{1}{(n-1)s^2_X} = \\sum_{i=1}^{n}k_i^2.\n",
    "\\end{equation*}\n",
    "\\end{proof}"
   ]
  },
  {
   "cell_type": "markdown",
   "metadata": {},
   "source": [
    "\\begin{theorem}\n",
    "\\label{theo:gmt}\n",
    "$b_0$ and $b_1$, as have we defined them in \\eqref{7:20 11/26/2019} and \\eqref{9:35 11/14/2019}, are said to be the best linear unbiased estimators of $\\beta_0$ and $\\beta_1$, respectively. That is, they have the lowest variance among all linear unbiased estimators of $\\beta_0$ and $\\beta_1$.\n",
    "\\end{theorem}\n",
    "\n",
    "\\begin{remark}\n",
    "Actually, the conditions for the Gauss-Markov Theorem are even more general than the ones we present above. In particular, the only restrictions on $\\epsilon_i$ we require are\n",
    "\\begin{enumerate}\n",
    "\\item $\\epsilon_1,\\dots,\\epsilon_n$ must be pairwise uncorrelated\n",
    "\\item $\\mu_{\\epsilon_i} = 0$ for each $i$\n",
    "\\item $\\sigma^{2}_{\\epsilon_{i}}$ must be the same for each $i$.\n",
    "\\end{enumerate}\n",
    "Each $\\epsilon_i$ need not be normally distributed.\n",
    "\\end{remark}\n",
    "\n",
    "\\begin{proof}\n",
    "We prove the theorem for $b_1$. Let\n",
    "\\begin{equation*}\n",
    "b_1' = \\sum_{i=1}^{n}c_iY_i\n",
    "\\end{equation*}\n",
    "be a linear unbiased estimator of $\\beta_1$ (not necessarily the one named in \\eqref{9:35 11/14/2019}). The variance of $\\beta_{1}'$ is\n",
    "\\begin{align*}\n",
    "\\mathrm{Var}\\left({b_1'}\\right) &= \\mathrm{Var}\\left({\\sum_{i=1}^{n}c_iY_i}\\right) \\\\\n",
    "&= \\sum_{i=1}^{n}c_i\\mathrm{Var}\\left({Y_i}\\right) \\\\\n",
    "&= \\sum_{i=1}^{n}c_i^2\\sigma^2_{\\epsilon} \\\\\n",
    "&= \\sigma^2_{\\epsilon}\\sum_{i=1}^{n}c_i^2.\n",
    "\\end{align*}\n",
    "Now,\n",
    "\\begin{align*}\n",
    "\\sum_{i=1}^{n}c_i^2 &= \\sum_{i=1}^{n}\\left({c_i-k_i+k_i}\\right)^2 \\\\\n",
    "&= \\sum_{i=1}^{n}\\left({c_i-k_i}\\right)^2 + 2\\underbrace{\\sum_{i=1}^{n}\\left({c_i-k_i}\\right)k_i}_{0} + \\sum_{i=1}^{n}k_i^2\n",
    "\\end{align*}\n",
    "so that\n",
    "\\begin{equation*}\n",
    "\\mathrm{Var}\\left({b_1'}\\right) = \\sigma^2_{\\epsilon}\\sum_{i=1}^{n}\\left({c_i-k_i}\\right)^2 + \\underbrace{\\sigma^2_{\\epsilon}\\sum_{i=1}^{n}k_i^2}_{\\sigma^2_{b_1}}.\n",
    "\\end{equation*}\n",
    "Unless $c_i = k_i$ for each $i$, we have $\\mathrm{Var}\\left({b_1'}\\right) > \\mathrm{Var}\\left({b_1}\\right)$. This proves that $b_1$ has the lowest variance among all unbiased linear estimators of $\\beta_1$.\n",
    "\\end{proof}\n",
    "\n",
    "\\begin{remark}\n",
    "We omit the proof for $b_0$ because it is algebraically involved and somewhat similar to the proof for $b_1$. However, a heuristic argument proceeds as follows: Assume every unbiased estimator $b_0'$ of $\\beta_0$ takes the form\n",
    "\\begin{equation*}\n",
    "b_0' = \\bar{Y} - b_1'\\bar{X},\n",
    "\\end{equation*}\n",
    "where $b_1'$ is an unbiased estimator of $\\beta_1$. Evaluating the variances of both sides,\n",
    "\\begin{equation*}\n",
    "\\sigma^2_{b_0'} = \\sigma^2_{\\bar{Y}|\\mathbf{x}} + \\bar{X}^2\\sigma^2_{b_1'}.\n",
    "\\end{equation*}\n",
    "But $\\sigma^2_{\\bar{Y}|\\mathbf{x}}$ and $\\bar{X}^2$ are fixed positive quantities and we have already shown that $\\sigma^2_{b_1} \\leq \\sigma^2_{b_1'}$ for each $b_1'$. We conclude that $b_0' = \\bar{Y} - b_1\\bar{X}$ has the lowest variance among all linear unbiased estimators of $\\beta_0$, but this selection of $b_0$ is exactly \\eqref{7:20 11/26/2019}.\n",
    "\\end{remark}"
   ]
  },
  {
   "cell_type": "markdown",
   "metadata": {},
   "source": [
    "## Joint Sampling Distribution"
   ]
  },
  {
   "cell_type": "markdown",
   "metadata": {},
   "source": [
    "\\begin{lemma}\n",
    "The random variables $b_1$ and $\\bar{Y}$ are uncorrelated.\n",
    "\\end{lemma}\n",
    "\n",
    "\\begin{proof}\n",
    "We have\n",
    "\\begin{align*}\n",
    "\\mathrm{Cov}\\left({b_1,\\bar{Y}}\\right)\n",
    "&= \\mathrm{Cov}\\left({\\sum_{i=1}^{n}k_iY_i,\\frac{1}{n}\\sum_{j=1}^{n}Y_j}\\right) \\\\\n",
    "&= \\frac{1}{n}\\sum_{i=1}^{n}k_i\\sum_{j=1}^{n}\\mathrm{Cov}\\left({Y_i,Y_j}\\right).\n",
    "\\end{align*} \n",
    "Now,\n",
    "\\begin{equation*}\n",
    "\\mathrm{Cov}\\left({Y_i,Y_j}\\right) =\n",
    "\\begin{cases}\n",
    "0 & i \\neq j \\\\\n",
    "\\sigma_{\\epsilon}^2 & i = j\n",
    "\\end{cases},\n",
    "\\end{equation*}\n",
    "so for each $i$,\n",
    "\\begin{equation*}\n",
    "\\sum_{j=1}^{n}\\mathrm{Cov}\\left({Y_i,Y_j}\\right) = \\sigma_{\\epsilon}^2.\n",
    "\\end{equation*}\n",
    "The sum becomes\n",
    "\\begin{equation*}\n",
    "\\frac{1}{n}\\sum_{i=1}^{n}k_{i} \\sigma_{\\epsilon}^2 = \\frac{\\sigma_{\\epsilon}^2}{n}\\underbrace{\\sum_{i=1}^{n}k_{i}}_{0} = 0.\n",
    "\\end{equation*}\n",
    "\\end{proof}\n"
   ]
  },
  {
   "cell_type": "markdown",
   "metadata": {},
   "source": [
    "\\begin{lemma}\n",
    "\\label{lem:covb01}\n",
    "\\begin{equation*}\n",
    "\\sigma^2_{b_{0}b_{1}} = -\\bar{X}\\sigma^2_{b_1}\n",
    "\\end{equation*}\n",
    "\\end{lemma}\n",
    "\n",
    "\\begin{proof}\n",
    "\\begin{align*}\n",
    "\\mathrm{Cov}\\left({b_{0},b_{1}}\\right)\n",
    "&= \\mathrm{Cov}\\left({\\bar{Y}-b_1\\bar{X},b_1}\\right) \\\\\n",
    "&= \\underbrace{\\mathrm{Cov}\\left({\\bar{Y},b_1}\\right)}_{0} - \\bar{X}\\mathrm{Cov}\\left({b_1,b_1}\\right) \\\\\n",
    "&= -\\bar{X}\\mathrm{Var}\\left({b_1}\\right)\n",
    "\\end{align*}\n",
    "\\end{proof}"
   ]
  },
  {
   "cell_type": "markdown",
   "metadata": {},
   "source": [
    "\\begin{corollary}\n",
    "\\begin{equation*}\n",
    "\\begin{bmatrix}\n",
    "b_0 \\\\\n",
    "b_1 \n",
    "\\end{bmatrix}\n",
    "\\sim\n",
    "\\mathcal{N}\\left({\n",
    "\\begin{bmatrix}\n",
    "\\beta_0 \\\\\n",
    "\\beta_1\n",
    "\\end{bmatrix},\n",
    "\\begin{bmatrix}\n",
    "\\sigma^2_{b_0} & -\\bar{X}\\sigma^2_{b_1}\\\\\n",
    "-\\bar{X}\\sigma^2_{b_1} & \\sigma^2_{b_1}\n",
    "\\end{bmatrix}\n",
    "}\\right)\n",
    "\\end{equation*}\n",
    "\\end{corollary}\n",
    "\n",
    "\\begin{proof}\n",
    "The result follows directly from Theorems \\ref{theo:beta0dist}, \\ref{theo:beta1dist}, and Lemma \\ref{lem:covb01}.\n",
    "\\end{proof}"
   ]
  },
  {
   "cell_type": "code",
   "execution_count": 17,
   "metadata": {
    "scrolled": false
   },
   "outputs": [
    {
     "data": {
      "image/png": "[encoded data removed]",
      "text/plain": [
       "<Figure size 432x288 with 1 Axes>"
      ]
     },
     "metadata": {
      "needs_background": "light"
     },
     "output_type": "display_data"
    }
   ],
   "source": [
    "plt.scatter(b0samp,b1samp); plt.xlabel(r'$b_0$'); plt.ylabel(r'$b_1$');"
   ]
  },
  {
   "cell_type": "markdown",
   "metadata": {},
   "source": [
    "\\begin{remark}\n",
    "If $\\bar{X} = 0$, then $b_0$ and $b_1$ are uncorrelated.\n",
    "\\end{remark}"
   ]
  },
  {
   "cell_type": "code",
   "execution_count": 18,
   "metadata": {},
   "outputs": [],
   "source": [
    "Xc0 = X - X.mean() # To ensure that X is centered at 0.\n",
    "Yc0 = norm.rvs(size=(nsamp,n), loc = beta0 + beta1*Xc0, scale = sigma)"
   ]
  },
  {
   "cell_type": "code",
   "execution_count": 19,
   "metadata": {},
   "outputs": [
    {
     "data": {
      "image/png": "[encoded data removed]",
      "text/plain": [
       "<Figure size 432x288 with 1 Axes>"
      ]
     },
     "metadata": {
      "needs_background": "light"
     },
     "output_type": "display_data"
    }
   ],
   "source": [
    "plt.scatter(b0(Xc0,Yc0),b1(Xc0,Yc0)); plt.xlabel(r'$b_0$'); plt.ylabel(r'$b_1$');"
   ]
  },
  {
   "cell_type": "markdown",
   "metadata": {},
   "source": [
    "# $SSE$, $SST$, and $SSR$"
   ]
  },
  {
   "cell_type": "markdown",
   "metadata": {},
   "source": [
    "## $SSE$\n",
    "\\begin{definition}\n",
    "Define the sum of squared errors (also called residual sum of squares) as\n",
    "\\begin{align*}\n",
    "SSE &\\equiv \\sum_{i=1}^{n}\\hat{\\epsilon}_i^2 \\\\\n",
    "&= \\sum_{i=1}^{n}\\left({Y_i-\\hat{Y}_i}\\right)^2.\n",
    "\\end{align*}\n",
    "\\end{definition}"
   ]
  },
  {
   "cell_type": "markdown",
   "metadata": {},
   "source": [
    "\\begin{lemma}\n",
    "Shifting each $X_i$ by the same arbitrary constant $c$ does not change SSE.\n",
    "\\end{lemma}\n",
    "\n",
    "\\begin{proof}\n",
    "If $SSE'$ is the sum of squared errors that results from regressing $Y$ on $X + c$, then\n",
    "\\begin{align*}\n",
    "SSE' &=\\sum_{i=1}^{n}\\hat{\\epsilon}_i'^2 \\\\\n",
    "&= \\sum_{i=1}^{n}\\left({Y'_i-\\hat{Y}'_i}\\right)^2 \\\\\n",
    "&= \\sum_{i=1}^{n}\\left({\\left({b_0 + b_1\\left({X_i + c}\\right) + \\hat{\\epsilon}_i}\\right)-\\left({b_0 + b_1\\left({X_i + c}\\right)}\\right)}\\right)^2 \\\\\n",
    "&= \\sum_{i=1}^{n}\\hat{\\epsilon}_i^2 \\\\\n",
    "&= SSE.\n",
    "\\end{align*}\n",
    "\\end{proof}"
   ]
  },
  {
   "cell_type": "markdown",
   "metadata": {},
   "source": [
    "\\begin{lemma}\n",
    "\\label{lem:chi2}\n",
    "\\begin{equation*}\n",
    "\\sum_{i=1}^{n}\\left({\\frac{Y_i-\\mathbb{E}\\left[{Y_i}\\right]}{\\sigma_{\\epsilon}}}\\right)^2 \\sim \\chi^2_n\n",
    "\\end{equation*}\n",
    "\\end{lemma}\n",
    "\n",
    "\\begin{proof}\n",
    "Since $Y_1,\\dots,Y_n$ are independent,\n",
    "\\begin{equation*}\n",
    "\\frac{Y_i-\\mathbb{E}\\left[{Y_i}\\right]}{\\sigma_{\\epsilon}} \\sim \\mathcal{N}\\left({0,1}\\right)\n",
    "\\end{equation*}\n",
    "for each $i$. This implies that\n",
    "\\begin{equation*}\n",
    "\\left(\\frac{Y_i-\\mathbb{E}\\left[{Y_i}\\right]}{\\sigma_{\\epsilon}}\\right)^2 \\sim \\chi^2_1.\n",
    "\\end{equation*}\n",
    "By the independence assumption, we conclude\n",
    "\\begin{equation*}\n",
    "\\sum_{i=1}^{n}\\left({\\frac{Y_i-\\mathbb{E}\\left[{Y_i}\\right]}{\\sigma_{\\epsilon}}}\\right)^2 \\sim \\chi^2_n.\n",
    "\\end{equation*}\n",
    "\\end{proof}"
   ]
  },
  {
   "cell_type": "markdown",
   "metadata": {},
   "source": [
    "\\begin{theorem}\n",
    "\\label{theo:SSEchi2}\n",
    "\\begin{equation*}\n",
    "\\frac{1}{\\sigma_{\\epsilon}^2}SSE \\sim \\chi^2_{n-2}.\n",
    "\\end{equation*}\n",
    "\\end{theorem}\n",
    "\n",
    "\\begin{proof}\n",
    "Suppose without loss of generality that $\\bar{X} = 0$, or otherwise consider $X'_i = X_i - \\bar{X}$, since we have shown that SSE is invariant to shifting $X$. We have\n",
    "\\begin{align}\n",
    "\\sum_{i=1}^{n}\\left({Y_i-\\mathbb{E}\\left[{Y_i}\\right]}\\right)^2 &=\n",
    "\\notag \\sum_{i=1}^{n}\\left({Y_i-\\hat{Y}_i+\\hat{Y}_i-\\mathbb{E}\\left[{Y_i}\\right]}\\right)^2 \\\\\n",
    "&= \\sum_{i=1}^{n}\\left({Y_i-\\hat{Y}_i}\\right)^2 + \\underbrace{\\sum_{i=1}^{n}\\left({Y_i-\\hat{Y}_i}\\right)\\left({\\hat{Y}_i-\\mathbb{E}\\left[{Y_i}\\right]}\\right)}_{(a)} + \\underbrace{\\sum_{i=1}^{n}\\left({\\hat{Y}_i-\\mathbb{E}\\left[{Y_i}\\right]}\\right)^2}_{(b)}. \\label{5:59 11/22/2019}\n",
    "\\end{align}\n",
    "We consider (a) and (b) in turn. For (a), we have\n",
    "\\begin{align*}\n",
    "\\sum_{i=1}^{n}\\left({Y_i-\\hat{Y}_i}\\right)\\left({\\hat{Y}_i-\\mathbb{E}\\left[{Y_i}\\right]}\\right) &=\n",
    "\\sum_{i=1}^{n}\\hat{\\epsilon}_i\\left({\\left({b_0 + b_1X_i}\\right)-\\left({\\beta_0 + \\beta_1 X_i}\\right)}\\right) \\\\\n",
    "&= \\left({b_0-\\beta_0}\\right)\\underbrace{\\sum_{i=1}^{n}\\hat{\\epsilon}_i}_{0} + \\left({b_1-\\beta_1}\\right)\\underbrace{\\sum_{i=1}^{n}X_i\\hat{\\epsilon}_i}_{0} \\\\\n",
    "&= 0.\n",
    "\\end{align*}\n",
    "For (b), we have\n",
    "\\begin{align*}\n",
    "\\sum_{i=1}^{n}\\left({\\hat{Y}_i-\\mathbb{E}\\left[{Y_i}\\right]}\\right)^2 &=\n",
    "\\sum_{i=1}^{n}\\left({\\left({b_0 + b_1X_i}\\right)-\\left({\\beta_0 + \\beta_1 X_i}\\right)}\\right)^2 \\\\\n",
    "&= \\sum_{i=1}^{n}\\left({\\left({b_0-\\beta_0}\\right)+\\left({b_1-\\beta_1}\\right)X_i}\\right)^2 \\\\\n",
    "&= \\sum_{i=1}^{n}\\left({b_0-\\beta_0}\\right)^2 + 2\\left({b_0-\\beta_0}\\right)\\left({b_1-\\beta_1}\\right)\\underbrace{\\sum_{i=1}^{n}X_i}_{0} + \\left({b_1-\\beta_1}\\right)^2 \\sum_{i=1}^{n}X_i^2 \\\\\n",
    "&= n\\left({b_0-\\beta_0}\\right)^2 + \\left({b_1-\\beta_1}\\right)^2 \\sum_{i=1}^{n}X_i^2.\n",
    "\\end{align*}\n",
    "Substituting these back into \\eqref{5:59 11/22/2019}, we have\n",
    "\\begin{align*}\n",
    "\\sum_{i=1}^{n}\\left({Y_i-\\mathbb{E}\\left[{Y_i}\\right]}\\right)^2 &= \\sum_{i=1}^{n}\\left({Y_i-\\hat{Y}_i}\\right)^2 +n\\left({b_0-\\beta_0}\\right)^2 + \\left({b_1-\\beta_1}\\right)^2 \\sum_{i=1}^{n}X_i^2.\n",
    "\\end{align*}\n",
    "Now, divide both sides by $\\sigma_{\\epsilon}^2$:\n",
    "\\begin{align*}\n",
    "\\frac{1}{\\sigma_{\\epsilon}^2}\\sum_{i=1}^{n}\\left({Y_i-\\mathbb{E}\\left[{Y_i}\\right]}\\right)^2 &= \\frac{1}{\\sigma_{\\epsilon}^2}\\sum_{i=1}^{n}\\left({Y_i-\\hat{Y}_i}\\right)^2 + \\frac{n}{\\sigma_{\\epsilon}^2}\\left({b_0-\\beta_0}\\right)^2 + \\frac{1}{\\sigma_{\\epsilon}^2}\\left({b_1-\\beta_1}\\right)^2 \\sum_{i=1}^{n}X_i^2. \\\\\n",
    "\\sum_{i=1}^{n}\\left({\\frac{Y_i-\\mathbb{E}\\left[{Y_i}\\right]}{\\sigma_{\\epsilon}}}\\right)^2 &= \\frac{1}{\\sigma_{\\epsilon}^2}\\sum_{i=1}^{n}\\left({Y_i-\\hat{Y}_i}\\right)^2 + \\frac{\\left({b_0-\\beta_0}\\right)^2}{\\sigma_{\\epsilon}^2/n} + \\frac{\\left({b_1-\\beta_1}\\right)^2}{\\sigma_{\\epsilon}^2 /\\sum_{i=1}^{n}X_i^2} \\\\\n",
    "\\underbrace{\\sum_{i=1}^{n}\\left({\\frac{Y_i-\\mathbb{E}\\left[{Y_i}\\right]}{\\sigma_{\\epsilon}}}\\right)^2}_{\\sim \\chi^2_n} &= \\frac{1}{\\sigma_{\\epsilon}^2}\\sum_{i=1}^{n}\\left({Y_i-\\hat{Y}_i}\\right)^2 + \\underbrace{\\left({\\frac{b_0-\\mathbb{E}\\left[{b_0}\\right]}{\\sigma_{b_0}}}\\right)^2}_{\\sim \\chi^2_1} + \\underbrace{\\left({\\frac{b_1-\\mathbb{E}\\left[{b_1}\\right]}{\\sigma_{b1}}}\\right)^2}_{\\sim \\chi^2_1}.\n",
    "\\end{align*}\n",
    "We deduce that if all three quantities on the right hand side are independent (the proof is beyond the scope of this document), then\n",
    "\\begin{equation*}\n",
    "\\frac{1}{\\sigma_{\\epsilon}^2}\\sum_{i=1}^{n}\\left({Y_i-\\hat{Y}_i}\\right)^2 \\sim \\chi^2_{n-2}.\n",
    "\\end{equation*}\n",
    "\\end{proof}"
   ]
  },
  {
   "cell_type": "code",
   "execution_count": 20,
   "metadata": {},
   "outputs": [],
   "source": [
    "def Yhat(X,Y):\n",
    "    icpt = np.repeat(b0(X,Y),n).reshape(Y.shape)\n",
    "    Xb = np.matmul(np.array([b1(X,Y)]).T,np.array([X]))\n",
    "    return icpt + Xb"
   ]
  },
  {
   "cell_type": "code",
   "execution_count": 21,
   "metadata": {},
   "outputs": [],
   "source": [
    "def SSE(X,Y):\n",
    "    return np.sum((Y-Yhat(X,Y))**2, axis=1)"
   ]
  },
  {
   "cell_type": "code",
   "execution_count": 22,
   "metadata": {},
   "outputs": [],
   "source": [
    "SSE_samp = SSE(X,Y)/sigma**2\n",
    "x = np.linspace(min(SSE_samp),max(SSE_samp),101); p = chi2.pdf(x,df=n-2)"
   ]
  },
  {
   "cell_type": "code",
   "execution_count": 23,
   "metadata": {
    "scrolled": false
   },
   "outputs": [
    {
     "data": {
      "image/png": "[encoded data removed]",
      "text/plain": [
       "<Figure size 432x288 with 1 Axes>"
      ]
     },
     "metadata": {
      "needs_background": "light"
     },
     "output_type": "display_data"
    }
   ],
   "source": [
    "plt.hist(SSE_samp,bins=100, density=True,label='Empirical Samples')\n",
    "plt.plot(x,p,label=r'$\\chi^2_{n-2}$ Density',c='r')\n",
    "plt.title(r'Sampling Distribution of $\\frac{SSE}{\\sigma_{\\epsilon}^2}$')\n",
    "plt.legend();"
   ]
  },
  {
   "cell_type": "markdown",
   "metadata": {},
   "source": [
    "## $SST$\n",
    "\\begin{definition}\n",
    "Define the Sum of Squares Total as\n",
    "\\begin{equation}\n",
    "\\label{eq:sst}\n",
    "SST \\equiv \\sum_{i=1}^{n}\\left({Y_i - \\bar{Y}}\\right)^2 = (n-1)s_Y^{2}.\n",
    "\\end{equation}\n",
    "\\end{definition}"
   ]
  },
  {
   "cell_type": "markdown",
   "metadata": {},
   "source": [
    "\\begin{proposition}\n",
    "\\label{prop:SSTchi2}\n",
    "If $\\beta_1 = 0$, then $\\frac{SST}{\\sigma_{\\epsilon}^2} \\sim \\chi^2_{n-1}$.\n",
    "\\end{proposition}\n",
    "\n",
    "\\begin{proof}\n",
    "If $\\beta_1 = 0$, then $Y_1,\\dots,Y_n$ are IID $\\mathcal{N}\\left({\\beta_0,\\sigma_{\\epsilon}^2}\\right)$. Hence, $\\bar{Y} \\sim \\mathcal{N}\\left({\\beta_0,\\frac{\\sigma_{\\epsilon}^2}{n}}\\right)$, and\n",
    "\\begin{equation*}\n",
    "\\left({\\frac{\\bar{Y}-\\beta_0}{\\sigma_{\\epsilon}/\\sqrt{n}}}\\right)^2 \\sim \\chi^2_1.\n",
    "\\end{equation*}\n",
    "Applying Lemma \\ref{lem:chi2},\n",
    "\\begin{align*}\n",
    "\\sum_{i=1}^{n}\\left({\\frac{Y_i-\\mathbb{E}\\left[{Y_i}\\right]}{\\sigma_{\\epsilon}}}\\right)^2\n",
    "&= \\frac{1}{\\sigma_{\\epsilon}^2}\\sum_{i=1}^{n}\\left({Y_i-\\mathbb{E}\\left[{Y_i}\\right]}\\right)^2 \\\\\n",
    "&= \\frac{1}{\\sigma_{\\epsilon}^2}\\sum_{i=1}^{n}\\left({Y_i-\\bar{Y}+\\bar{Y}-\\mathbb{E}\\left[{Y_i}\\right]}\\right)^2 \\\\\n",
    "&= \\frac{1}{\\sigma_{\\epsilon}^2}\\underbrace{\\sum_{i=1}^{n}\\left({Y_i-\\bar{Y}}\\right)^2}_{SST} + \\frac{2}{\\sigma_{\\epsilon}^2}\\underbrace{\\sum_{i=1}^{n}\\left({Y_i-\\bar{Y}}\\right)\\left({\\bar{Y}-\\mathbb{E}\\left[{Y_i}\\right]}\\right)}_{0} + \\frac{1}{\\sigma_{\\epsilon}^2}\\sum_{i=1}^{n}\\left({\\bar{Y}-\\mathbb{E}\\left[{Y_i}\\right]}\\right)^2 \\\\\n",
    "&= \\frac{SST}{\\sigma_{\\epsilon}^2} + \\frac{n}{\\sigma_{\\epsilon}^2}\\left({\\bar{Y}-\\mathbb{E}\\left[{Y_i}\\right]}\\right)^2 \\\\\n",
    "\\underbrace{\\sum_{i=1}^{n}\\left({\\frac{Y_i-\\mathbb{E}\\left[{Y_i}\\right]}{\\sigma_{\\epsilon}}}\\right)^2}_{\\chi^2_n}\n",
    "&= \\frac{SST}{\\sigma_{\\epsilon}^2} + \\underbrace{\\left({\\frac{\\bar{Y}-\\beta_0}{\\sigma_{\\epsilon}/\\sqrt{n}}}\\right)^2}_{\\chi^2_1}.\n",
    "\\end{align*}\n",
    "The last equation leads us to deduce that $\\frac{SST}{\\sigma_{\\epsilon}^2} \\sim \\chi^2_{n-1}$.\n",
    "\\end{proof}"
   ]
  },
  {
   "cell_type": "code",
   "execution_count": 24,
   "metadata": {},
   "outputs": [],
   "source": [
    "def SST(X,Y):\n",
    "    Ybar = np.repeat(Y.mean(axis=1),n).reshape(Y.shape)\n",
    "    return np.sum((Y - Ybar)**2, axis=1)"
   ]
  },
  {
   "cell_type": "code",
   "execution_count": 25,
   "metadata": {},
   "outputs": [],
   "source": [
    "np.random.seed(0)\n",
    "Y0 = norm.rvs(size=(nsamp,n), loc = beta0 + 0*X, scale = sigma)\n",
    "SST_samp = SST(X,Y0)/sigma**2"
   ]
  },
  {
   "cell_type": "code",
   "execution_count": 26,
   "metadata": {},
   "outputs": [],
   "source": [
    "x = np.linspace(min(SST_samp),max(SST_samp),101); p = chi2.pdf(x, df = n - 1)"
   ]
  },
  {
   "cell_type": "code",
   "execution_count": 27,
   "metadata": {},
   "outputs": [
    {
     "data": {
      "image/png": "[encoded data removed]",
      "text/plain": [
       "<Figure size 432x288 with 1 Axes>"
      ]
     },
     "metadata": {
      "needs_background": "light"
     },
     "output_type": "display_data"
    }
   ],
   "source": [
    "plt.hist(SST_samp,bins=100,density=True,label='Empirical Sample')\n",
    "plt.plot(x,p,label=r'$\\chi^2_{n-1}$ Density',c='r')\n",
    "plt.title(r'Sampling Distribution of $\\frac{SST}{\\sigma_{\\epsilon}^2}$')\n",
    "plt.legend();"
   ]
  },
  {
   "cell_type": "markdown",
   "metadata": {},
   "source": [
    "## $SSR$\n",
    "\\begin{definition}\n",
    "Define the Sum of Squares due to Regression as\n",
    "\\begin{equation*}\n",
    "SSR = \\sum_{i=1}^{n}\\left({\\bar{Y} - \\hat{Y}_i}\\right)^2.\n",
    "\\end{equation*}\n",
    "\\end{definition}"
   ]
  },
  {
   "cell_type": "markdown",
   "metadata": {},
   "source": [
    "\\begin{corollary}\n",
    "\\label{cor:tssrssess}\n",
    "\\begin{equation*}\n",
    "SST = SSE + SSR.\n",
    "\\end{equation*}\n",
    "\\end{corollary}\n",
    "\\begin{proof}\n",
    "\\begin{align*}\n",
    "SST &= \\sum_{i=1}^{n}\\left({Y_i - \\bar{Y}}\\right)^2 \\\\\n",
    "&= \\sum_{i=1}^{n}\\left({Y_i - \\hat{Y_i}+\\hat{Y_i}-\\bar{Y}}\\right)^2 \\\\\n",
    "&= \\underbrace{\\sum_{i=1}^{n}\\left({Y_i - \\hat{Y_i}}\\right)^2}_{SSE} + 2{\\underbrace{\\sum_{i=1}^{n}\\left({Y_i - \\hat{Y_i}}\\right)\\left({\\hat{Y_i}-\\bar{Y}}\\right)}_{0}} + \\underbrace{\\sum_{i=1}^{n}\\left({\\hat{Y_i}-\\bar{Y}}\\right)^2}_{SSR}.\n",
    "\\end{align*}\n",
    "It may be helpful to see why the middle term vanishes:\n",
    "\\begin{align*}\n",
    "\\sum_{i=1}^{n}\\left({Y_i - \\hat{Y_i}}\\right)\\left({\\hat{Y_i}-\\bar{Y}}\\right) &= \\sum_{i=1}^{n}\\hat{\\epsilon}_i\\left({\\hat{Y_i}-\\bar{Y}}\\right) \\\\\n",
    "&= \\sum_{i=1}^{n}\\hat{\\epsilon}_i\\left({\\left({b_0+b_1X_i}\\right)-\\left({b_0 + b_1\\bar{X}}\\right)}\\right) \\\\\n",
    "&= b_1\\underbrace{\\sum_{i=1}^{n}\\left({X_i-\\bar{X}}\\right)\\hat{\\epsilon}_i}_{0}.\n",
    "\\end{align*}\n",
    "\\end{proof}"
   ]
  },
  {
   "cell_type": "markdown",
   "metadata": {},
   "source": [
    "\\begin{corollary}\n",
    "\\label{cor:ssrdist}\n",
    "If $\\beta_1 = 0$, then $\\frac{SSR}{\\sigma_{\\epsilon}^2} \\sim \\chi^2_1$.\n",
    "\\end{corollary}\n",
    "\\begin{proof}\n",
    "This follows directly from Theorem \\ref{theo:SSEchi2}, Proposition \\ref{prop:SSTchi2}, and Corollary \\ref{cor:tssrssess}.\n",
    "\\begin{equation*}\n",
    "\\underbrace{\\frac{SST}{\\sigma_{\\epsilon}^2}}_{\\chi^2_{n-1}} = \\underbrace{\\frac{SSE}{\\sigma_{\\epsilon}^2}}_{\\chi^2_{n-2}} + \\frac{SSR}{\\sigma_{\\epsilon}^2}.\n",
    "\\end{equation*}\n",
    "\\end{proof}"
   ]
  },
  {
   "cell_type": "code",
   "execution_count": 28,
   "metadata": {},
   "outputs": [],
   "source": [
    "def SSR(X,Y):\n",
    "    Y = np.atleast_2d(Y)\n",
    "    Ybar = np.repeat(Y.mean(axis=1),n).reshape(Y.shape)\n",
    "    return np.sum((Yhat(X,Y) - Ybar)**2, axis=1)"
   ]
  },
  {
   "cell_type": "code",
   "execution_count": 29,
   "metadata": {},
   "outputs": [],
   "source": [
    "SSR_samp = SSR(X,Y0)/sigma**2\n",
    "x = np.linspace(0.05,max(SSR_samp),101); p = chi2.pdf(x, df = 1)"
   ]
  },
  {
   "cell_type": "code",
   "execution_count": 30,
   "metadata": {},
   "outputs": [
    {
     "data": {
      "image/png": "[encoded data removed]",
      "text/plain": [
       "<Figure size 432x288 with 1 Axes>"
      ]
     },
     "metadata": {
      "needs_background": "light"
     },
     "output_type": "display_data"
    }
   ],
   "source": [
    "plt.hist(SSR_samp,bins=100,density=True,label='Empirical Sample');\n",
    "plt.plot(x,p,label=r'$\\chi^2_{1}$ Density',c='r')\n",
    "plt.title(r'Sampling Distribution of $\\frac{SSR}{\\sigma_{\\epsilon}^2}$')\n",
    "plt.legend();"
   ]
  },
  {
   "cell_type": "markdown",
   "metadata": {},
   "source": [
    "\\begin{proposition}\n",
    "\\begin{equation}\n",
    "SSR = b_1^2\\sum_{i=1}^{n}\\left({X_i-\\bar{X}}\\right)^2\n",
    "\\label{7:40 11/25/2019}\n",
    "\\end{equation}\n",
    "\\end{proposition}\n",
    "\\begin{proof}\n",
    "\\begin{align*}\n",
    "SSR &= \\sum_{i=1}^{n}\\left({\\hat{Y_i}-\\bar{Y}}\\right)^2 \\\\\n",
    "&= \\sum_{i=1}^{n}\\left({\\left({b_0+b_1X_i}\\right)-\\left({b_0 + b_1\\bar{X}}\\right)}\\right)^2 \\\\\n",
    "&= b_1^2\\sum_{i=1}^{n}\\left({X_i-\\bar{X}}\\right)^2.\n",
    "\\end{align*}\n",
    "\\end{proof}"
   ]
  },
  {
   "cell_type": "markdown",
   "metadata": {},
   "source": [
    "\\begin{corollary}\n",
    "\\begin{equation}\n",
    "\\label{eq:ssrsx}\n",
    "SSR = \\left({n-1}\\right)\\frac{\\left({s_{XY}^2}\\right)^2}{s_{X}^2}\n",
    "\\end{equation}\n",
    "\\end{corollary}\n",
    "\n",
    "\\begin{proof}\n",
    "The result follows directly from substitutions of\n",
    "\\begin{equation*}\n",
    "s^2_X = \\frac{1}{n-1}\\sum_{i=1}^{n}\\left({X_i-\\bar{X}}\\right)^2\n",
    "\\end{equation*}\n",
    "and\n",
    "\\begin{equation*}\n",
    "b_1 = \\frac{s^2_{XY}}{s^2_{X}}\n",
    "\\end{equation*}\n",
    "into \\eqref{7:40 11/25/2019}.\n",
    "\\end{proof}"
   ]
  },
  {
   "cell_type": "markdown",
   "metadata": {},
   "source": [
    "## $R^2$\n",
    "For this section, we consider $X$ to be random."
   ]
  },
  {
   "cell_type": "markdown",
   "metadata": {},
   "source": [
    "\\begin{definition}\n",
    "Define the correlation between $X$ and $Y$ by\n",
    "\\label{def:corr}\n",
    "\\begin{equation*}\n",
    "\\rho_{X,Y} = \\frac{\\sigma^2_{X,Y}}{\\sqrt{\\sigma^2_X\\sigma^2_{Y}}}\n",
    "\\end{equation*}\n",
    "\\end{definition}"
   ]
  },
  {
   "cell_type": "markdown",
   "metadata": {},
   "source": [
    "\\begin{definition}\n",
    "\\label{def:rest}\n",
    "Define the correlation estimator by\n",
    "\\begin{equation*}\n",
    "R = \\frac{s^2_{X,Y}}{\\sqrt{s^2_{X}s^2_{Y}}}.\n",
    "\\end{equation*}\n",
    "\\end{definition}"
   ]
  },
  {
   "cell_type": "markdown",
   "metadata": {},
   "source": [
    "\\begin{theorem}\n",
    "\\label{theo:r2}\n",
    "\\begin{equation*}\n",
    "R^2 = \\frac{SSR}{SST}\n",
    "\\end{equation*}\n",
    "\\end{theorem}\n",
    "\n",
    "\\begin{proof}\n",
    "We start from the right hand side. Substituting in \\eqref{eq:sst} and \\eqref{eq:ssrsx}, we have\n",
    "\\begin{align*}\n",
    "\\frac{SSR}{SST} &= \\frac{\\left({n-1}\\right)\\frac{\\left({s_{XY}^2}\\right)^2}{s_{X}^2}}{(n-1)s_{Y}^2} \\\\\n",
    "&= \\left({\\frac{s_{X,Y}^2}{\\sqrt{s_X^2 s_Y^2}}}\\right)^2 \\\\\n",
    "&= R^2.\n",
    "\\end{align*}\n",
    "\\end{proof}"
   ]
  },
  {
   "cell_type": "markdown",
   "metadata": {},
   "source": [
    "\\begin{remark}\n",
    "$R$ is interpreted as a measure of fit, where $R=1$ implies perfect positive linear correlation and $R=-1$ implies perfect negative linear correlation. If $R = 0$, then $X$ and $Y$ are said to be perfectly uncorrelated. This should not suggest that there is no relationship between $X$ and $Y$. Instead, it implies that if a relationship does exist, then the relationship is not linear. $R^2$ is interpreted to mean the proportion of variation in $Y$ that the regression line explains \\textit{more} than $\\bar{Y}$ does by itself.\n",
    "\\end{remark}"
   ]
  },
  {
   "cell_type": "markdown",
   "metadata": {},
   "source": [
    "# $\\sigma^2$ unknown"
   ]
  },
  {
   "cell_type": "markdown",
   "metadata": {},
   "source": [
    "## The MLE Estimator"
   ]
  },
  {
   "cell_type": "markdown",
   "metadata": {},
   "source": [
    "\\begin{proposition}\n",
    "The MLE estimator of $\\sigma_{\\epsilon}^2$ is\n",
    "\\begin{equation}\n",
    "\\label{eq:sigma2hat}\n",
    "\\hat{\\sigma}_{\\epsilon}^2 = \\frac{SSE}{n}.\n",
    "\\end{equation}\n",
    "\\end{proposition}\n",
    "\n",
    "\\begin{proof}\n",
    "The log-liklihood of the data (refer to equation \\eqref{llh}) is\n",
    "\\begin{equation*}\n",
    "\\mathcal{L}\\left({\\sigma_{\\epsilon}^2}\\right) = -\\frac{n}{2}\\log\\left({2\\pi\\sigma_{\\epsilon}^2}\\right) - \\frac{SSE}{2\\sigma_{\\epsilon}^2}\n",
    "\\end{equation*}\n",
    "when we use $b_0$ and $b_1$ in place of their parameters. Equation \\eqref{eq:sigma2hat} results from imposing the constraint\n",
    "\\begin{equation*}\n",
    "0 = \\frac{\\partial}{\\partial\\sigma_{\\epsilon}^2}\\mathcal{L}\\left({\\sigma_{\\epsilon}^2}\\right)\n",
    "\\end{equation*}\n",
    "and solving. One may verify using the second derivative test that $\\hat{\\sigma}_{\\epsilon}^2$ is a global maximum.\n",
    "\\end{proof}"
   ]
  },
  {
   "cell_type": "markdown",
   "metadata": {},
   "source": [
    "\\begin{remark}\n",
    "Although $\\hat{\\sigma}_{\\epsilon}^2$ is the MLE estimator of $\\sigma_{\\epsilon}^2$, it is biased. We introduce an unbiased estimator next.\n",
    "\\end{remark}"
   ]
  },
  {
   "cell_type": "markdown",
   "metadata": {},
   "source": [
    "## Mean Squared Error\n",
    "\\begin{definition}\n",
    "Define the mean squared error as\n",
    "\\begin{equation*}\n",
    "MSE = \\frac{SSE}{n-2}.\n",
    "\\end{equation*}\n",
    "\\end{definition}"
   ]
  },
  {
   "cell_type": "markdown",
   "metadata": {},
   "source": [
    "\\begin{corollary}\n",
    "\\begin{equation*}\n",
    "\\mathbb{E}\\left[{MSE}\\right] = \\sigma^2_{\\epsilon}\n",
    "\\end{equation*}\n",
    "\\end{corollary}\n",
    "\n",
    "\\begin{proof}\n",
    "Since\n",
    "\\begin{equation*}\n",
    "\\frac{SSE}{\\sigma^2_{\\epsilon}} \\sim \\chi^2_{n-2},\n",
    "\\end{equation*}\n",
    "we have\n",
    "\\begin{equation*}\n",
    "\\mathbb{E}\\left[{\\frac{SSE}{\\sigma^2_{\\epsilon}}}\\right] = n-2,\n",
    "\\end{equation*}\n",
    "or\n",
    "\\begin{equation*}\n",
    "\\mathbb{E}\\left[{\\frac{SSE}{n-2}}\\right] = \\sigma^2_{\\epsilon}.\n",
    "\\end{equation*}\n",
    "\\end{proof}\n",
    "\n",
    "\\begin{remark}\n",
    "\\label{rem:84011272019}\n",
    "Hereafter, we shall use the notation\n",
    "\\begin{equation*}\n",
    "s^2_{\\epsilon} = MSE\n",
    "\\end{equation*}\n",
    "whenever we speak of an estimator for $\\sigma^2_{\\epsilon}.$\n",
    "\\end{remark}\n"
   ]
  },
  {
   "cell_type": "code",
   "execution_count": 31,
   "metadata": {},
   "outputs": [],
   "source": [
    "def MSE(X,Y):\n",
    "    return SSE(X,Y)/(n-2)"
   ]
  },
  {
   "cell_type": "code",
   "execution_count": 32,
   "metadata": {
    "scrolled": true
   },
   "outputs": [
    {
     "data": {
      "image/png": "[encoded data removed]",
      "text/plain": [
       "<Figure size 432x288 with 2 Axes>"
      ]
     },
     "metadata": {
      "needs_background": "light"
     },
     "output_type": "display_data"
    }
   ],
   "source": [
    "fig, ax = plt.subplots(2, 1, sharex=True, tight_layout=True)\n",
    "\n",
    "ax[0].hist(MSE(X,Y),bins=100, label = r'$s_{\\epsilon}^2$')\n",
    "ax[0].axvline(x=sigma**2, c = 'r', label = r'$\\sigma_{\\epsilon}^2$')\n",
    "ax[0].legend()\n",
    "\n",
    "ax[1].hist(SSE(X,Y)/n,bins=100, label = r'$\\hat{\\sigma}_{\\epsilon}^2$')\n",
    "ax[1].axvline(x=sigma**2, c = 'r', label = r'$\\sigma_{\\epsilon}^2$')\n",
    "ax[1].legend();"
   ]
  },
  {
   "cell_type": "code",
   "execution_count": 33,
   "metadata": {},
   "outputs": [],
   "source": [
    "a = np.cumsum(SSE(X,Y)/n)/np.arange(1,nsamp+1)\n",
    "b = np.cumsum(MSE(X,Y))/np.arange(1,nsamp+1)"
   ]
  },
  {
   "cell_type": "code",
   "execution_count": 34,
   "metadata": {},
   "outputs": [
    {
     "data": {
      "image/png": "[encoded data removed]",
      "text/plain": [
       "<Figure size 432x288 with 1 Axes>"
      ]
     },
     "metadata": {
      "needs_background": "light"
     },
     "output_type": "display_data"
    }
   ],
   "source": [
    "plt.loglog(np.abs(a-sigma**2),'.', label=r'$\\hat{\\sigma}_{\\epsilon}^2$')\n",
    "plt.loglog(np.abs(b-sigma**2),'.', label=r'$s_{\\epsilon}^2$')\n",
    "plt.xlabel('Number of Sample Sets'); plt.ylabel('Absolute Error');\n",
    "plt.title('Running Error Plot'); plt.legend();"
   ]
  },
  {
   "cell_type": "markdown",
   "metadata": {},
   "source": [
    "## Adjusted $b_1$ Sampling Distribution"
   ]
  },
  {
   "cell_type": "markdown",
   "metadata": {},
   "source": [
    "\\begin{definition}\n",
    "\\label{def:se}\n",
    "Define the variance estimator of $b_1$ as\n",
    "\\begin{equation*}\n",
    "s_{b_1}^2 = \\frac{s^2_{\\epsilon}}{\\sum_{i=1}^{n}\\left({X_i-\\bar{X}}\\right)^2}\n",
    "\\end{equation*}\n",
    "and the standard deviation estimator as\n",
    "\\begin{equation*}\n",
    "s_{b_1} = \\sqrt{s_{b_1}^2} = \\sqrt{\\frac{s^2_{\\epsilon}}{\\sum_{i=1}^{n}\\left({X_i-\\bar{X}}\\right)^2}}.\n",
    "\\end{equation*}\n",
    "\\end{definition}"
   ]
  },
  {
   "cell_type": "markdown",
   "metadata": {},
   "source": [
    "\\begin{corollary}\n",
    "$s^2_{b_1}$ is an unbiased estimator of $\\sigma^2_{b_1}$.\n",
    "\\end{corollary}\n",
    "\n",
    "\\begin{proof}\n",
    "\\begin{align*}\n",
    "\\mathbb{E}\\left[{s^2_{b_1}}\\right]\n",
    "&= \\mathbb{E}\\left[{\\frac{s^2_{\\epsilon}}{\\sum_{i=1}^{n}\\left({X_i-\\bar{X}}\\right)^2}}\\right] \\\\\n",
    "&= \\frac{\\mathbb{E}\\left[{s^2_{\\epsilon}}\\right]}{\\sum_{i=1}^{n}\\left({X_i-\\bar{X}}\\right)^2} \\\\\n",
    "&= \\frac{\\sigma_{\\epsilon}^2}{\\sum_{i=1}^{n}\\left({X_i-\\bar{X}}\\right)^2} \\\\\n",
    "&= \\sigma^2_{b_1}\n",
    "\\end{align*}\n",
    "\\end{proof}"
   ]
  },
  {
   "cell_type": "markdown",
   "metadata": {},
   "source": [
    "\\begin{theorem}\n",
    "\\begin{equation*}\n",
    "\\frac{b_1-\\beta_1}{s_{b_1}} \\sim t_{n-2}\n",
    "\\end{equation*}\n",
    "\\end{theorem}\n",
    "\n",
    "\\begin{proof}\n",
    "It suffices to show that the above expression is of the form\n",
    "\\begin{equation*}\n",
    "\\frac{Z}{\\sqrt{C/(n-2)}},\n",
    "\\end{equation*}\n",
    "where $Z \\sim \\mathcal{N}\\left({0,1}\\right)$ and $C \\sim \\chi^2_{n-2}$ are independent. We have\n",
    "\\begin{align*}\n",
    "\\frac{b_1-\\beta_1}{\\sqrt{\\frac{MSE}{\\sum_{i=1}^{n}\\left({X_i-\\bar{X}}\\right)^2}}}\n",
    "&= \\underbrace{\\frac{b_1-\\beta_1}{\\sqrt{\\frac{\\sigma_{\\epsilon}^2}{\\sum_{i=1}^{n}\\left({X_i-\\bar{X}}\\right)^2}}}}_{\\mathcal{N}(0,1)} \\div\n",
    "\\frac{\\sqrt{\\frac{MSE}{\\sum_{i=1}^{n}\\left({X_i-\\bar{X}}\\right)^2}}}{\\sqrt{\\frac{\\sigma_{\\epsilon}^2}{\\sum_{i=1}^{n}\\left({X_i-\\bar{X}}\\right)^2}}} \\\\\n",
    "&= Z \\div \\sqrt{\\frac{MSE}{\\sigma_{\\epsilon}^2}} \\\\\n",
    "&= Z \\div \\sqrt{\\frac{SSE/(n-2)}{\\sigma_{\\epsilon}^2}} \\\\\n",
    "&= Z \\div \\sqrt{\\frac{SSE/\\sigma_{\\epsilon}^2}{n-2}},\n",
    "\\end{align*}\n",
    "but Theorem \\ref{theo:SSEchi2} asserts that $SSE/\\sigma_{\\epsilon}^2 \\sim \\chi^2_{n-2}$, and we have shown the form. It remains to show independence, but that is beyond the scope of this document.\n",
    "\\end{proof}"
   ]
  },
  {
   "cell_type": "code",
   "execution_count": 35,
   "metadata": {},
   "outputs": [],
   "source": [
    "def tb1(X,Y):\n",
    "    A = b1(X,Y) - beta1\n",
    "    B = MSE(X,Y)/sum((X-X.mean())**2)\n",
    "    return A/np.sqrt(B)"
   ]
  },
  {
   "cell_type": "code",
   "execution_count": 36,
   "metadata": {
    "scrolled": false
   },
   "outputs": [
    {
     "data": {
      "image/png": "[encoded data removed]",
      "text/plain": [
       "<Figure size 432x288 with 1 Axes>"
      ]
     },
     "metadata": {
      "needs_background": "light"
     },
     "output_type": "display_data"
    }
   ],
   "source": [
    "sample = tb1(X,Y)\n",
    "plt.hist(sample,bins=100, density=True, label = 'Empirical Samples')\n",
    "x = np.linspace(min(sample),max(sample),101); p = t.pdf(x,df=n-2)\n",
    "plt.plot(x,p,label=r'$t_{n-2}$ Density',c='r'); plt.legend();"
   ]
  },
  {
   "cell_type": "markdown",
   "metadata": {},
   "source": [
    "## Adjusted $b_0$ Sampling Distribution"
   ]
  },
  {
   "cell_type": "markdown",
   "metadata": {},
   "source": [
    "\\begin{definition}\n",
    "\\label{def:se}\n",
    "Define the variance estimator of $b_0$ as\n",
    "\\begin{equation*}\n",
    "s_{b_0}^2 = s^2_{\\epsilon}\\left({\\frac{1}{n}+\\frac{\\bar{X}^2}{(n-1)s_X^2}}\\right)\n",
    "\\end{equation*}\n",
    "and the standard deviation estimator as\n",
    "\\begin{equation*}\n",
    "s_{b_0} = \\sqrt{s_{b_0}^2} = \\sqrt{s_{\\epsilon}^2\\left({\\frac{1}{n}+\\frac{\\bar{X}^2}{(n-1)s_X^2}}\\right)}.\n",
    "\\end{equation*}\n",
    "\\end{definition}"
   ]
  },
  {
   "cell_type": "markdown",
   "metadata": {},
   "source": [
    "\\begin{theorem}\n",
    "$s^2_{b_0}$ is an unbiased estimator of $\\sigma^2_{b_0}$.\n",
    "\\end{theorem}\n",
    "\n",
    "\\begin{theorem}\n",
    "\\begin{equation*}\n",
    "\\frac{b_0-\\beta_0}{s_{b_0}} \\sim t_{n-2}\n",
    "\\end{equation*}\n",
    "\\end{theorem}\n",
    "The proofs are so similar to those of the previous section that we omit them."
   ]
  },
  {
   "cell_type": "markdown",
   "metadata": {},
   "source": [
    "## Mean Squares due to Regression\n",
    "\\begin{definition}\n",
    "Define the mean squares due to regression by\n",
    "\\begin{equation*}\n",
    "MSR = \\frac{1}{(n-1)-(n-2)}\\sum_{i=1}^{n}\\left({\\hat{Y}_i-\\bar{Y}}\\right)^2 = \\sum_{i=1}^{n}\\left({\\hat{Y}_i-\\bar{Y}}\\right)^2.\n",
    "\\end{equation*}\n",
    "\\end{definition}\n",
    "\n",
    "Although this definition may seem redundant, we will see that the distinction between $MSR$ and $SSR$ is necessary for multiple linear regression."
   ]
  },
  {
   "cell_type": "code",
   "execution_count": 37,
   "metadata": {},
   "outputs": [],
   "source": [
    "def MSR(X,Y):\n",
    "    return SSR(X,Y)"
   ]
  },
  {
   "cell_type": "markdown",
   "metadata": {},
   "source": [
    "# ANOVA"
   ]
  },
  {
   "cell_type": "markdown",
   "metadata": {},
   "source": [
    "## Motivation\n",
    "Suppose $\\beta_1 = 0$. By Theorem \\ref{theo:SSEchi2} and Corollary \\ref{cor:ssrdist}, we have that $\\frac{SSE}{\\sigma_{\\epsilon}^2}\\sim\\chi^2_{n-2}$ and $\\frac{SSR}{\\sigma_{\\epsilon}^2}\\sim\\chi^2_{1}$. Thus,\n",
    "\\begin{equation*}\n",
    "\\mathbb{E}\\underbrace{\\left[{\\frac{SSE}{n-2}}\\right]}_{MSE} = \\mathbb{E}\\underbrace{\\left[{\\frac{SSR}{1}}\\right]}_{MSR} = \\sigma_{\\epsilon}^2.\n",
    "\\end{equation*}\n",
    "If indeed it were the case that $\\beta_1 = 0$, we'd expect to see the ratio\n",
    "\\begin{equation*}\n",
    "\\frac{MSR}{MSE}\n",
    "\\end{equation*}\n",
    "close to $1$."
   ]
  },
  {
   "cell_type": "markdown",
   "metadata": {},
   "source": [
    "## Sampling Distribution of $\\frac{MSR}{MSE}$"
   ]
  },
  {
   "cell_type": "markdown",
   "metadata": {},
   "source": [
    "\\begin{theorem}\n",
    "\\label{theo:F}\n",
    "$\\frac{MSR}{MSE}$ has an F distribution with $1$ and $n-2$ degrees of freedom.\n",
    "\\end{theorem}\n",
    "\n",
    "\\begin{proof}\n",
    "It suffices to show that we may express $\\frac{MSR}{MSE}$ in the form\n",
    "\\begin{equation*}\n",
    "\\frac{U \\div 1}{V \\div (n-2)},\n",
    "\\end{equation*}\n",
    "where $U \\sim \\chi^2_{1}$ and $V \\sim \\chi^2_{n-2}$ are independent. We have\n",
    "\\begin{align*}\n",
    "\\frac{MSR}{MSE} &= \\frac{SSR \\div 1}{SSE \\div (n-2)} \\\\\n",
    "&= \\frac{\\frac{SSR}{\\sigma_{\\epsilon}^2} \\div 1}{\\frac{SSE}{\\sigma_{\\epsilon}^2} \\div (n-2)},\n",
    "\\end{align*}\n",
    "and by Theorem \\ref{theo:SSEchi2} and Corollary \\ref{cor:ssrdist}, we have shown the form. Showing independence is beyond the scope of this document.\n",
    "\\end{proof}"
   ]
  },
  {
   "cell_type": "code",
   "execution_count": 38,
   "metadata": {},
   "outputs": [],
   "source": [
    "def F(X,Y):\n",
    "    return MSR(X,Y) / MSE(X,Y)"
   ]
  },
  {
   "cell_type": "code",
   "execution_count": 39,
   "metadata": {},
   "outputs": [],
   "source": [
    "F_samp = F(X,Y0);\n",
    "a = 0.05; b = max(F_samp); x = np.linspace(a,b,101); p = f.pdf(x,dfn=1,dfd = n-2)"
   ]
  },
  {
   "cell_type": "code",
   "execution_count": 40,
   "metadata": {
    "scrolled": true
   },
   "outputs": [
    {
     "data": {
      "image/png": "[encoded data removed]",
      "text/plain": [
       "<Figure size 432x288 with 1 Axes>"
      ]
     },
     "metadata": {
      "needs_background": "light"
     },
     "output_type": "display_data"
    }
   ],
   "source": [
    "plt.hist(F_samp,bins=101, density = True, label = 'Empirical Samples')\n",
    "plt.plot(x,p,label=r'$F_{1,n-2}$ Density',c='r'); plt.legend();"
   ]
  },
  {
   "cell_type": "markdown",
   "metadata": {},
   "source": [
    "\\begin{remark}\n",
    "If $\\beta_1 \\neq 0$, then we'd see a different distribution of $\\frac{MSR}{MSE}$.\n",
    "\\end{remark}"
   ]
  },
  {
   "cell_type": "code",
   "execution_count": 41,
   "metadata": {
    "scrolled": true
   },
   "outputs": [
    {
     "data": {
      "image/png": "[encoded data removed]",
      "text/plain": [
       "<Figure size 432x288 with 1 Axes>"
      ]
     },
     "metadata": {
      "needs_background": "light"
     },
     "output_type": "display_data"
    }
   ],
   "source": [
    "plt.hist(F(X,Y),bins=101, density = True, label = 'Empirical Samples')\n",
    "plt.legend();"
   ]
  },
  {
   "cell_type": "markdown",
   "metadata": {},
   "source": [
    "## Relation to the $t$ Distribution"
   ]
  },
  {
   "cell_type": "markdown",
   "metadata": {},
   "source": [
    "\\begin{theorem}\n",
    "\\begin{equation*}\n",
    "\\left({\\frac{b_1-\\beta_1}{s_{b_1}}}\\right)^2 \\sim F_{1,n-2}\n",
    "\\end{equation*}\n",
    "\\end{theorem}\n",
    "\n",
    "\\begin{proof}\n",
    "We have already shown that\n",
    "\\begin{equation*}\n",
    "\\frac{b_1-\\beta_1}{s_{b_1}} \\sim t_{n-2}.\n",
    "\\end{equation*}\n",
    "It follows that the square of any $t$ distributed random variable with $\\nu$ degrees of freedom has a $F_{1,\\nu}$ distribution.\n",
    "\\end{proof}"
   ]
  }
 ],
 "metadata": {
  "author": "Ordinary Least Squares Regression",
  "kernelspec": {
   "display_name": "Python 3",
   "language": "python",
   "name": "python3"
  },
  "language_info": {
   "codemirror_mode": {
    "name": "ipython",
    "version": 3
   },
   "file_extension": ".py",
   "mimetype": "text/x-python",
   "name": "python",
   "nbconvert_exporter": "python",
   "pygments_lexer": "ipython3",
   "version": "3.8.3"
  },
  "latex_envs": {
   "LaTeX_envs_menu_present": true,
   "autoclose": false,
   "autocomplete": false,
   "bibliofile": "biblio.bib",
   "cite_by": "apalike",
   "current_citInitial": 1,
   "eqLabelWithNumbers": true,
   "eqNumInitial": 1,
   "hotkeys": {
    "equation": "Ctrl-E",
    "itemize": "Ctrl-I"
   },
   "labels_anchors": false,
   "latex_user_defs": false,
   "report_style_numbering": false,
   "user_envs_cfg": false
  },
  "toc": {
   "base_numbering": 1,
   "nav_menu": {},
   "number_sections": true,
   "sideBar": true,
   "skip_h1_title": false,
   "title_cell": "Table of Contents",
   "title_sidebar": "Contents",
   "toc_cell": false,
   "toc_position": {
    "height": "calc(100% - 180px)",
    "left": "10px",
    "top": "150px",
    "width": "307.2px"
   },
   "toc_section_display": true,
   "toc_window_display": false
  }
 },
 "nbformat": 4,
 "nbformat_minor": 2
}
